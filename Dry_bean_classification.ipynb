{
 "cells": [
  {
   "cell_type": "markdown",
   "id": "c03c1ea8",
   "metadata": {
    "papermill": {
     "duration": 0.01669,
     "end_time": "2022-05-30T16:48:20.293978",
     "exception": false,
     "start_time": "2022-05-30T16:48:20.277288",
     "status": "completed"
    },
    "tags": []
   },
   "source": [
    "#  👋 Hi There \n",
    "#  If you wanna discover our notebook ... Yalla bean-a 👏"
   ]
  },
  {
   "cell_type": "markdown",
   "id": "33875da2",
   "metadata": {
    "papermill": {
     "duration": 0.014797,
     "end_time": "2022-05-30T16:48:20.324150",
     "exception": false,
     "start_time": "2022-05-30T16:48:20.309353",
     "status": "completed"
    },
    "tags": []
   },
   "source": [
    "# Dataset Information\n",
    "\n",
    "Given a set of features extracted from the shape of the beans in images and  it's required to predict the class of a bean given some features about its shape.\n",
    "There are 7 bean types in this dataset.\n",
    "\n",
    "**Data fields**\n",
    "- ID - an ID for this instance\n",
    "- Area - (A), The area of a bean zone and the number of pixels within its boundaries.\n",
    "- Perimeter - (P), Bean circumference is defined as the length of its border.\n",
    "- MajorAxisLength - (L), The distance between the ends of the longest line that can be drawn from a bean.\n",
    "- MinorAxisLength - (l), The longest line that can be drawn from the bean while standing perpendicular to the main axis.\n",
    "- AspectRatio - (K), Defines the relationship between L and l.\n",
    "- Eccentricity - (Ec), Eccentricity of the ellipse having the same moments as the region.\n",
    "- ConvexArea - (C), Number of pixels in the smallest convex polygon that can contain the area of a bean seed.\n",
    "- EquivDiameter - (Ed), The diameter of a circle having the same area as a bean seed area.\n",
    "- Extent - (Ex), The ratio of the pixels in the bounding box to the bean area.\n",
    "- Solidity - (S), Also known as convexity. The ratio of the pixels in the convex shell to those found in beans.\n",
    "- Roundness - (R), Calculated with the following formula: (4piA)/(P^2)\n",
    "- Compactness - (CO), Measures the roundness of an object: Ed/L\n",
    "- ShapeFactor1 - (SF1)\n",
    "- ShapeFactor2 - (SF2)\n",
    "- ShapeFactor3 - (SF3)\n",
    "- ShapeFactor4 - (SF4)\n",
    "- y - the class of the bean. It can be any of BARBUNYA, SIRA, HOROZ, DERMASON, CALI, BOMBAY, and SEKER.\n"
   ]
  },
  {
   "cell_type": "markdown",
   "id": "fba8030c",
   "metadata": {
    "papermill": {
     "duration": 0.015095,
     "end_time": "2022-05-30T16:48:20.354275",
     "exception": false,
     "start_time": "2022-05-30T16:48:20.339180",
     "status": "completed"
    },
    "tags": []
   },
   "source": [
    "<img src= \"https://www.thespruceeats.com/thmb/eeIti36pfkoNBaipXrTHLjIv5YA=/1888x1416/smart/filters:no_upscale()/DriedBeans-56f6c2c43df78c78418c3b46.jpg\" alt =\"Titanic\" style='width: 800px;height:400px'>"
   ]
  },
  {
   "cell_type": "markdown",
   "id": "e7be4432",
   "metadata": {
    "papermill": {
     "duration": 0.015182,
     "end_time": "2022-05-30T16:48:20.384847",
     "exception": false,
     "start_time": "2022-05-30T16:48:20.369665",
     "status": "completed"
    },
    "tags": []
   },
   "source": [
    "# 1. **Data Import**"
   ]
  },
  {
   "cell_type": "code",
   "execution_count": 1,
   "id": "8e9ba2e9",
   "metadata": {
    "execution": {
     "iopub.execute_input": "2022-05-30T16:48:20.418565Z",
     "iopub.status.busy": "2022-05-30T16:48:20.417909Z",
     "iopub.status.idle": "2022-05-30T16:48:35.761316Z",
     "shell.execute_reply": "2022-05-30T16:48:35.760317Z"
    },
    "papermill": {
     "duration": 15.362969,
     "end_time": "2022-05-30T16:48:35.763918",
     "exception": false,
     "start_time": "2022-05-30T16:48:20.400949",
     "status": "completed"
    },
    "tags": []
   },
   "outputs": [
    {
     "name": "stdout",
     "output_type": "stream",
     "text": [
      "Collecting skfeature-chappers\r\n",
      "  Downloading skfeature_chappers-1.1.0-py3-none-any.whl (66 kB)\r\n",
      "\u001b[2K     \u001b[90m━━━━━━━━━━━━━━━━━━━━━━━━━━━━━━━━━━━━━━━━\u001b[0m \u001b[32m66.3/66.3 kB\u001b[0m \u001b[31m1.6 MB/s\u001b[0m eta \u001b[36m0:00:00\u001b[0m\r\n",
      "\u001b[?25hRequirement already satisfied: scikit-learn in /opt/conda/lib/python3.7/site-packages (from skfeature-chappers) (1.0.2)\r\n",
      "Requirement already satisfied: numpy in /opt/conda/lib/python3.7/site-packages (from skfeature-chappers) (1.21.6)\r\n",
      "Requirement already satisfied: pandas in /opt/conda/lib/python3.7/site-packages (from skfeature-chappers) (1.3.5)\r\n",
      "Requirement already satisfied: python-dateutil>=2.7.3 in /opt/conda/lib/python3.7/site-packages (from pandas->skfeature-chappers) (2.8.2)\r\n",
      "Requirement already satisfied: pytz>=2017.3 in /opt/conda/lib/python3.7/site-packages (from pandas->skfeature-chappers) (2022.1)\r\n",
      "Requirement already satisfied: joblib>=0.11 in /opt/conda/lib/python3.7/site-packages (from scikit-learn->skfeature-chappers) (1.1.0)\r\n",
      "Requirement already satisfied: scipy>=1.1.0 in /opt/conda/lib/python3.7/site-packages (from scikit-learn->skfeature-chappers) (1.7.3)\r\n",
      "Requirement already satisfied: threadpoolctl>=2.0.0 in /opt/conda/lib/python3.7/site-packages (from scikit-learn->skfeature-chappers) (3.1.0)\r\n",
      "Requirement already satisfied: six>=1.5 in /opt/conda/lib/python3.7/site-packages (from python-dateutil>=2.7.3->pandas->skfeature-chappers) (1.16.0)\r\n",
      "Installing collected packages: skfeature-chappers\r\n",
      "Successfully installed skfeature-chappers-1.1.0\r\n",
      "\u001b[33mWARNING: Running pip as the 'root' user can result in broken permissions and conflicting behaviour with the system package manager. It is recommended to use a virtual environment instead: https://pip.pypa.io/warnings/venv\u001b[0m\u001b[33m\r\n",
      "\u001b[0m"
     ]
    }
   ],
   "source": [
    "!pip install skfeature-chappers\n",
    "# Supressing the warning messages\n",
    "import warnings\n",
    "warnings.filterwarnings('ignore')\n",
    "\n",
    "# for basic mathematics operation \n",
    "import numpy as np\n",
    "import pandas as pd\n",
    "from pandas import plotting\n",
    "from sklearn.metrics import confusion_matrix\n",
    "\n",
    "# for visualizations\n",
    "import matplotlib.pyplot as plt\n",
    "import seaborn as sns\n",
    "plt.style.use('fivethirtyeight')\n",
    "from sklearn.metrics import ConfusionMatrixDisplay\n",
    "from mlxtend.plotting import plot_confusion_matrix\n",
    "import matplotlib.pyplot as plt\n",
    "from sklearn.ensemble import GradientBoostingClassifier\n",
    "from sklearn.preprocessing import LabelEncoder\n",
    "from imblearn.over_sampling import SMOTE, ADASYN,BorderlineSMOTE,KMeansSMOTE,SVMSMOTE\n",
    "from sklearn.ensemble import RandomForestClassifier, VotingClassifier\n",
    "from sklearn.metrics import accuracy_score, r2_score,confusion_matrix, plot_confusion_matrix, classification_report,f1_score\n",
    "sns.set(rc={'figure.figsize':(25,15)})\n",
    "# for path\n",
    "import os\n"
   ]
  },
  {
   "cell_type": "code",
   "execution_count": 2,
   "id": "7f37e489",
   "metadata": {
    "execution": {
     "iopub.execute_input": "2022-05-30T16:48:35.799243Z",
     "iopub.status.busy": "2022-05-30T16:48:35.798467Z",
     "iopub.status.idle": "2022-05-30T16:48:35.980983Z",
     "shell.execute_reply": "2022-05-30T16:48:35.979741Z"
    },
    "papermill": {
     "duration": 0.204385,
     "end_time": "2022-05-30T16:48:35.984506",
     "exception": false,
     "start_time": "2022-05-30T16:48:35.780121",
     "status": "completed"
    },
    "tags": []
   },
   "outputs": [
    {
     "name": "stdout",
     "output_type": "stream",
     "text": [
      "The shape of the dataset is (10834, 17).\n",
      "\n",
      "\n"
     ]
    }
   ],
   "source": [
    "# train file\n",
    "dataset_path = '../input/dry-beans-classification-iti-ai-pro-intake02'\n",
    "df = pd.read_csv(os.path.join(dataset_path, 'train.csv'),index_col='ID')\n",
    "print(\"The shape of the dataset is {}.\\n\\n\".format(df.shape))\n",
    "\n",
    "# test file\n",
    "dataset_path = '../input/dry-beans-classification-iti-ai-pro-intake02/'\n",
    "df_test = pd.read_csv(os.path.join(dataset_path, 'test.csv'),index_col='ID')\n",
    "df_test.head()\n",
    "\n",
    "# subission example file\n",
    "dataset_path = '../input/dry-beans-classification-iti-ai-pro-intake02/'\n",
    "df_subm = pd.read_csv(os.path.join(dataset_path, 'sample_submission.csv'))"
   ]
  },
  {
   "cell_type": "markdown",
   "id": "fd9ee378",
   "metadata": {
    "papermill": {
     "duration": 0.015864,
     "end_time": "2022-05-30T16:48:36.017464",
     "exception": false,
     "start_time": "2022-05-30T16:48:36.001600",
     "status": "completed"
    },
    "tags": []
   },
   "source": [
    "# **2- Explainatry Data Analysis - EDA**"
   ]
  },
  {
   "cell_type": "markdown",
   "id": "8e71aa50",
   "metadata": {
    "papermill": {
     "duration": 0.015651,
     "end_time": "2022-05-30T16:48:36.049199",
     "exception": false,
     "start_time": "2022-05-30T16:48:36.033548",
     "status": "completed"
    },
    "tags": []
   },
   "source": [
    "****"
   ]
  },
  {
   "cell_type": "code",
   "execution_count": 3,
   "id": "12a72f73",
   "metadata": {
    "execution": {
     "iopub.execute_input": "2022-05-30T16:48:36.083242Z",
     "iopub.status.busy": "2022-05-30T16:48:36.082496Z",
     "iopub.status.idle": "2022-05-30T16:48:36.104188Z",
     "shell.execute_reply": "2022-05-30T16:48:36.102892Z"
    },
    "papermill": {
     "duration": 0.041804,
     "end_time": "2022-05-30T16:48:36.106980",
     "exception": false,
     "start_time": "2022-05-30T16:48:36.065176",
     "status": "completed"
    },
    "tags": []
   },
   "outputs": [
    {
     "name": "stdout",
     "output_type": "stream",
     "text": [
      "<class 'pandas.core.frame.DataFrame'>\n",
      "Int64Index: 10834 entries, 0 to 10833\n",
      "Data columns (total 17 columns):\n",
      " #   Column           Non-Null Count  Dtype  \n",
      "---  ------           --------------  -----  \n",
      " 0   Area             10834 non-null  int64  \n",
      " 1   Perimeter        10834 non-null  float64\n",
      " 2   MajorAxisLength  10834 non-null  float64\n",
      " 3   MinorAxisLength  10834 non-null  float64\n",
      " 4   AspectRation     10834 non-null  float64\n",
      " 5   Eccentricity     10834 non-null  float64\n",
      " 6   ConvexArea       10834 non-null  int64  \n",
      " 7   EquivDiameter    10834 non-null  float64\n",
      " 8   Extent           10834 non-null  float64\n",
      " 9   Solidity         10834 non-null  float64\n",
      " 10  roundness        10834 non-null  float64\n",
      " 11  Compactness      10834 non-null  float64\n",
      " 12  ShapeFactor1     10834 non-null  float64\n",
      " 13  ShapeFactor2     10834 non-null  float64\n",
      " 14  ShapeFactor3     10834 non-null  float64\n",
      " 15  ShapeFactor4     10834 non-null  float64\n",
      " 16  y                10834 non-null  object \n",
      "dtypes: float64(14), int64(2), object(1)\n",
      "memory usage: 1.5+ MB\n"
     ]
    }
   ],
   "source": [
    "df.info()"
   ]
  },
  {
   "cell_type": "code",
   "execution_count": 4,
   "id": "c87efd9b",
   "metadata": {
    "execution": {
     "iopub.execute_input": "2022-05-30T16:48:36.141440Z",
     "iopub.status.busy": "2022-05-30T16:48:36.140785Z",
     "iopub.status.idle": "2022-05-30T16:48:36.222460Z",
     "shell.execute_reply": "2022-05-30T16:48:36.221358Z"
    },
    "papermill": {
     "duration": 0.101501,
     "end_time": "2022-05-30T16:48:36.224730",
     "exception": false,
     "start_time": "2022-05-30T16:48:36.123229",
     "status": "completed"
    },
    "tags": []
   },
   "outputs": [
    {
     "data": {
      "text/html": [
       "<div>\n",
       "<style scoped>\n",
       "    .dataframe tbody tr th:only-of-type {\n",
       "        vertical-align: middle;\n",
       "    }\n",
       "\n",
       "    .dataframe tbody tr th {\n",
       "        vertical-align: top;\n",
       "    }\n",
       "\n",
       "    .dataframe thead th {\n",
       "        text-align: right;\n",
       "    }\n",
       "</style>\n",
       "<table border=\"1\" class=\"dataframe\">\n",
       "  <thead>\n",
       "    <tr style=\"text-align: right;\">\n",
       "      <th></th>\n",
       "      <th>Area</th>\n",
       "      <th>Perimeter</th>\n",
       "      <th>MajorAxisLength</th>\n",
       "      <th>MinorAxisLength</th>\n",
       "      <th>AspectRation</th>\n",
       "      <th>Eccentricity</th>\n",
       "      <th>ConvexArea</th>\n",
       "      <th>EquivDiameter</th>\n",
       "      <th>Extent</th>\n",
       "      <th>Solidity</th>\n",
       "      <th>roundness</th>\n",
       "      <th>Compactness</th>\n",
       "      <th>ShapeFactor1</th>\n",
       "      <th>ShapeFactor2</th>\n",
       "      <th>ShapeFactor3</th>\n",
       "      <th>ShapeFactor4</th>\n",
       "    </tr>\n",
       "  </thead>\n",
       "  <tbody>\n",
       "    <tr>\n",
       "      <th>count</th>\n",
       "      <td>10834.000000</td>\n",
       "      <td>10834.000000</td>\n",
       "      <td>10834.000000</td>\n",
       "      <td>10834.000000</td>\n",
       "      <td>10834.000000</td>\n",
       "      <td>10834.000000</td>\n",
       "      <td>10834.000000</td>\n",
       "      <td>10834.000000</td>\n",
       "      <td>10834.000000</td>\n",
       "      <td>10834.000000</td>\n",
       "      <td>10834.000000</td>\n",
       "      <td>10834.000000</td>\n",
       "      <td>10834.000000</td>\n",
       "      <td>10834.000000</td>\n",
       "      <td>10834.000000</td>\n",
       "      <td>10834.000000</td>\n",
       "    </tr>\n",
       "    <tr>\n",
       "      <th>mean</th>\n",
       "      <td>53095.675189</td>\n",
       "      <td>855.274892</td>\n",
       "      <td>320.036169</td>\n",
       "      <td>202.410342</td>\n",
       "      <td>1.581294</td>\n",
       "      <td>0.750588</td>\n",
       "      <td>53816.205926</td>\n",
       "      <td>253.123583</td>\n",
       "      <td>0.749937</td>\n",
       "      <td>0.987152</td>\n",
       "      <td>0.873647</td>\n",
       "      <td>0.800244</td>\n",
       "      <td>0.006559</td>\n",
       "      <td>0.001718</td>\n",
       "      <td>0.644139</td>\n",
       "      <td>0.995083</td>\n",
       "    </tr>\n",
       "    <tr>\n",
       "      <th>std</th>\n",
       "      <td>29542.542580</td>\n",
       "      <td>214.991122</td>\n",
       "      <td>85.961630</td>\n",
       "      <td>45.113965</td>\n",
       "      <td>0.244314</td>\n",
       "      <td>0.091481</td>\n",
       "      <td>29999.710739</td>\n",
       "      <td>59.433080</td>\n",
       "      <td>0.048949</td>\n",
       "      <td>0.004626</td>\n",
       "      <td>0.059344</td>\n",
       "      <td>0.061228</td>\n",
       "      <td>0.001127</td>\n",
       "      <td>0.000593</td>\n",
       "      <td>0.098268</td>\n",
       "      <td>0.004306</td>\n",
       "    </tr>\n",
       "    <tr>\n",
       "      <th>min</th>\n",
       "      <td>20420.000000</td>\n",
       "      <td>524.932000</td>\n",
       "      <td>183.601165</td>\n",
       "      <td>129.576207</td>\n",
       "      <td>1.024868</td>\n",
       "      <td>0.218951</td>\n",
       "      <td>20684.000000</td>\n",
       "      <td>161.243764</td>\n",
       "      <td>0.555315</td>\n",
       "      <td>0.919246</td>\n",
       "      <td>0.489618</td>\n",
       "      <td>0.645368</td>\n",
       "      <td>0.002856</td>\n",
       "      <td>0.000564</td>\n",
       "      <td>0.416499</td>\n",
       "      <td>0.947687</td>\n",
       "    </tr>\n",
       "    <tr>\n",
       "      <th>25%</th>\n",
       "      <td>36343.500000</td>\n",
       "      <td>703.601250</td>\n",
       "      <td>253.501071</td>\n",
       "      <td>175.927024</td>\n",
       "      <td>1.432985</td>\n",
       "      <td>0.716250</td>\n",
       "      <td>36731.250000</td>\n",
       "      <td>215.113880</td>\n",
       "      <td>0.718778</td>\n",
       "      <td>0.985627</td>\n",
       "      <td>0.833479</td>\n",
       "      <td>0.763378</td>\n",
       "      <td>0.005888</td>\n",
       "      <td>0.001161</td>\n",
       "      <td>0.582747</td>\n",
       "      <td>0.993690</td>\n",
       "    </tr>\n",
       "    <tr>\n",
       "      <th>50%</th>\n",
       "      <td>44645.000000</td>\n",
       "      <td>793.739500</td>\n",
       "      <td>296.377365</td>\n",
       "      <td>192.525040</td>\n",
       "      <td>1.550761</td>\n",
       "      <td>0.764314</td>\n",
       "      <td>45148.000000</td>\n",
       "      <td>238.419335</td>\n",
       "      <td>0.760141</td>\n",
       "      <td>0.988290</td>\n",
       "      <td>0.883472</td>\n",
       "      <td>0.801428</td>\n",
       "      <td>0.006643</td>\n",
       "      <td>0.001700</td>\n",
       "      <td>0.642287</td>\n",
       "      <td>0.996397</td>\n",
       "    </tr>\n",
       "    <tr>\n",
       "      <th>75%</th>\n",
       "      <td>61295.000000</td>\n",
       "      <td>975.517500</td>\n",
       "      <td>376.068399</td>\n",
       "      <td>217.315195</td>\n",
       "      <td>1.703029</td>\n",
       "      <td>0.809450</td>\n",
       "      <td>62251.500000</td>\n",
       "      <td>279.362162</td>\n",
       "      <td>0.786871</td>\n",
       "      <td>0.990014</td>\n",
       "      <td>0.916883</td>\n",
       "      <td>0.834068</td>\n",
       "      <td>0.007268</td>\n",
       "      <td>0.002169</td>\n",
       "      <td>0.695670</td>\n",
       "      <td>0.997895</td>\n",
       "    </tr>\n",
       "    <tr>\n",
       "      <th>max</th>\n",
       "      <td>254616.000000</td>\n",
       "      <td>1985.370000</td>\n",
       "      <td>738.860153</td>\n",
       "      <td>450.926187</td>\n",
       "      <td>2.388873</td>\n",
       "      <td>0.908167</td>\n",
       "      <td>263261.000000</td>\n",
       "      <td>569.374358</td>\n",
       "      <td>0.866195</td>\n",
       "      <td>0.994677</td>\n",
       "      <td>0.990685</td>\n",
       "      <td>0.987303</td>\n",
       "      <td>0.009897</td>\n",
       "      <td>0.003665</td>\n",
       "      <td>0.974767</td>\n",
       "      <td>0.999733</td>\n",
       "    </tr>\n",
       "  </tbody>\n",
       "</table>\n",
       "</div>"
      ],
      "text/plain": [
       "                Area     Perimeter  MajorAxisLength  MinorAxisLength  \\\n",
       "count   10834.000000  10834.000000     10834.000000     10834.000000   \n",
       "mean    53095.675189    855.274892       320.036169       202.410342   \n",
       "std     29542.542580    214.991122        85.961630        45.113965   \n",
       "min     20420.000000    524.932000       183.601165       129.576207   \n",
       "25%     36343.500000    703.601250       253.501071       175.927024   \n",
       "50%     44645.000000    793.739500       296.377365       192.525040   \n",
       "75%     61295.000000    975.517500       376.068399       217.315195   \n",
       "max    254616.000000   1985.370000       738.860153       450.926187   \n",
       "\n",
       "       AspectRation  Eccentricity     ConvexArea  EquivDiameter        Extent  \\\n",
       "count  10834.000000  10834.000000   10834.000000   10834.000000  10834.000000   \n",
       "mean       1.581294      0.750588   53816.205926     253.123583      0.749937   \n",
       "std        0.244314      0.091481   29999.710739      59.433080      0.048949   \n",
       "min        1.024868      0.218951   20684.000000     161.243764      0.555315   \n",
       "25%        1.432985      0.716250   36731.250000     215.113880      0.718778   \n",
       "50%        1.550761      0.764314   45148.000000     238.419335      0.760141   \n",
       "75%        1.703029      0.809450   62251.500000     279.362162      0.786871   \n",
       "max        2.388873      0.908167  263261.000000     569.374358      0.866195   \n",
       "\n",
       "           Solidity     roundness   Compactness  ShapeFactor1  ShapeFactor2  \\\n",
       "count  10834.000000  10834.000000  10834.000000  10834.000000  10834.000000   \n",
       "mean       0.987152      0.873647      0.800244      0.006559      0.001718   \n",
       "std        0.004626      0.059344      0.061228      0.001127      0.000593   \n",
       "min        0.919246      0.489618      0.645368      0.002856      0.000564   \n",
       "25%        0.985627      0.833479      0.763378      0.005888      0.001161   \n",
       "50%        0.988290      0.883472      0.801428      0.006643      0.001700   \n",
       "75%        0.990014      0.916883      0.834068      0.007268      0.002169   \n",
       "max        0.994677      0.990685      0.987303      0.009897      0.003665   \n",
       "\n",
       "       ShapeFactor3  ShapeFactor4  \n",
       "count  10834.000000  10834.000000  \n",
       "mean       0.644139      0.995083  \n",
       "std        0.098268      0.004306  \n",
       "min        0.416499      0.947687  \n",
       "25%        0.582747      0.993690  \n",
       "50%        0.642287      0.996397  \n",
       "75%        0.695670      0.997895  \n",
       "max        0.974767      0.999733  "
      ]
     },
     "execution_count": 4,
     "metadata": {},
     "output_type": "execute_result"
    }
   ],
   "source": [
    "df.describe()"
   ]
  },
  {
   "cell_type": "code",
   "execution_count": 5,
   "id": "3855f049",
   "metadata": {
    "execution": {
     "iopub.execute_input": "2022-05-30T16:48:36.260198Z",
     "iopub.status.busy": "2022-05-30T16:48:36.259789Z",
     "iopub.status.idle": "2022-05-30T16:48:36.268870Z",
     "shell.execute_reply": "2022-05-30T16:48:36.268114Z"
    },
    "papermill": {
     "duration": 0.02915,
     "end_time": "2022-05-30T16:48:36.270843",
     "exception": false,
     "start_time": "2022-05-30T16:48:36.241693",
     "status": "completed"
    },
    "tags": []
   },
   "outputs": [
    {
     "data": {
      "text/plain": [
       "DERMASON    2837\n",
       "SIRA        2109\n",
       "SEKER       1621\n",
       "HOROZ       1488\n",
       "CALI        1304\n",
       "BARBUNYA    1057\n",
       "BOMBAY       418\n",
       "Name: y, dtype: int64"
      ]
     },
     "execution_count": 5,
     "metadata": {},
     "output_type": "execute_result"
    }
   ],
   "source": [
    "df['y'].value_counts()"
   ]
  },
  {
   "cell_type": "code",
   "execution_count": 6,
   "id": "affc80f6",
   "metadata": {
    "execution": {
     "iopub.execute_input": "2022-05-30T16:48:36.306741Z",
     "iopub.status.busy": "2022-05-30T16:48:36.306305Z",
     "iopub.status.idle": "2022-05-30T16:48:36.670188Z",
     "shell.execute_reply": "2022-05-30T16:48:36.669447Z"
    },
    "papermill": {
     "duration": 0.384055,
     "end_time": "2022-05-30T16:48:36.672129",
     "exception": false,
     "start_time": "2022-05-30T16:48:36.288074",
     "status": "completed"
    },
    "tags": []
   },
   "outputs": [
    {
     "data": {
      "image/png": "[encoded data removed]",
      "text/plain": [
       "<Figure size 1800x1080 with 1 Axes>"
      ]
     },
     "metadata": {},
     "output_type": "display_data"
    }
   ],
   "source": [
    "sns.countplot(x='y', data=df)\n",
    "plt.show()"
   ]
  },
  {
   "cell_type": "markdown",
   "id": "d92abf38",
   "metadata": {
    "papermill": {
     "duration": 0.017819,
     "end_time": "2022-05-30T16:48:36.707141",
     "exception": false,
     "start_time": "2022-05-30T16:48:36.689322",
     "status": "completed"
    },
    "tags": []
   },
   "source": [
    "# 3. **Feature engineering**"
   ]
  },
  {
   "cell_type": "code",
   "execution_count": 7,
   "id": "4ce37950",
   "metadata": {
    "execution": {
     "iopub.execute_input": "2022-05-30T16:48:36.744880Z",
     "iopub.status.busy": "2022-05-30T16:48:36.743982Z",
     "iopub.status.idle": "2022-05-30T16:48:36.775047Z",
     "shell.execute_reply": "2022-05-30T16:48:36.774059Z"
    },
    "papermill": {
     "duration": 0.051711,
     "end_time": "2022-05-30T16:48:36.777525",
     "exception": false,
     "start_time": "2022-05-30T16:48:36.725814",
     "status": "completed"
    },
    "tags": []
   },
   "outputs": [],
   "source": [
    "# Adding Some Features to help to get better performance\n",
    "\n",
    "# adding features for train data\n",
    "df['ShapeFactor5'] = df['MajorAxisLength'] / df['Perimeter']\n",
    "df['ShapeFactor6'] = df['Extent'] * df['Area']\n",
    "df['ShapeFactor7'] = df['Eccentricity'] * df['Area']\n",
    "df['Bounding_rectangular_area'] = df['Area']/df['Extent']\n",
    "df['elipse_area']= np.pi* df['MajorAxisLength']*df['MinorAxisLength']/4\n",
    "df['elipse_perimeter']= 2*np.pi * np.sqrt(((0.5*df['MajorAxisLength'])**2+(0.5*df['MinorAxisLength'])**2)/2)\n",
    "df['area_diff']= df['elipse_area']-df['Area']\n",
    "df['perimeter_diff']= df['elipse_perimeter']-df['Perimeter']\n",
    "\n",
    "\n",
    "# adding features for test data\n",
    "\n",
    "df_test['ShapeFactor5'] = df_test['MajorAxisLength'] / df_test['Perimeter']\n",
    "df_test['ShapeFactor6'] = df_test['Extent'] * df_test['Area']\n",
    "df_test['ShapeFactor7'] = df_test['Eccentricity'] * df_test['Area']\n",
    "df_test['Bounding_rectangular_area'] = df_test['Area']/df_test['Extent']\n",
    "df_test['elipse_area']= np.pi* df_test['MajorAxisLength']*df_test['MinorAxisLength']/4\n",
    "df_test['elipse_perimeter']= 2*np.pi * np.sqrt(((0.5*df_test['MajorAxisLength'])**2+(0.5*df_test['MinorAxisLength'])**2)/2)\n",
    "df_test['area_diff']= df_test['elipse_area']-df_test['Area']\n",
    "df_test['perimeter_diff']= df_test['elipse_perimeter']-df_test['Perimeter']\n",
    "\n"
   ]
  },
  {
   "cell_type": "markdown",
   "id": "bbf95bea",
   "metadata": {
    "papermill": {
     "duration": 0.017241,
     "end_time": "2022-05-30T16:48:36.812122",
     "exception": false,
     "start_time": "2022-05-30T16:48:36.794881",
     "status": "completed"
    },
    "tags": []
   },
   "source": [
    "# 4. **Data visualization**"
   ]
  },
  {
   "cell_type": "markdown",
   "id": "7f25d314",
   "metadata": {
    "papermill": {
     "duration": 0.016569,
     "end_time": "2022-05-30T16:48:36.845728",
     "exception": false,
     "start_time": "2022-05-30T16:48:36.829159",
     "status": "completed"
    },
    "tags": []
   },
   "source": [
    "**Viewing Featurs Correlation**"
   ]
  },
  {
   "cell_type": "code",
   "execution_count": 8,
   "id": "d71e9d58",
   "metadata": {
    "execution": {
     "iopub.execute_input": "2022-05-30T16:48:36.881348Z",
     "iopub.status.busy": "2022-05-30T16:48:36.880974Z",
     "iopub.status.idle": "2022-05-30T16:48:40.267257Z",
     "shell.execute_reply": "2022-05-30T16:48:40.266169Z"
    },
    "papermill": {
     "duration": 3.411118,
     "end_time": "2022-05-30T16:48:40.273774",
     "exception": false,
     "start_time": "2022-05-30T16:48:36.862656",
     "status": "completed"
    },
    "tags": []
   },
   "outputs": [
    {
     "data": {
      "image/png": "[encoded data removed]",
      "text/plain": [
       "<Figure size 1080x1080 with 2 Axes>"
      ]
     },
     "metadata": {},
     "output_type": "display_data"
    }
   ],
   "source": [
    "corr_matrix = df.corr()\n",
    "\n",
    "plt.figure(figsize=(15,15))\n",
    "plt.title('Correlation Heatmap of Beans Dataset')\n",
    "a = sns.heatmap(corr_matrix, square=True, annot=True, fmt='.2f', linecolor='black')\n",
    "a.set_xticklabels(a.get_xticklabels(), rotation=90)\n",
    "a.set_yticklabels(a.get_yticklabels(), rotation=0)\n",
    "plt.show()"
   ]
  },
  {
   "cell_type": "markdown",
   "id": "a8cf4d59",
   "metadata": {
    "papermill": {
     "duration": 0.023153,
     "end_time": "2022-05-30T16:48:40.321169",
     "exception": false,
     "start_time": "2022-05-30T16:48:40.298016",
     "status": "completed"
    },
    "tags": []
   },
   "source": [
    "**Features Importance**"
   ]
  },
  {
   "cell_type": "code",
   "execution_count": 9,
   "id": "280f93e0",
   "metadata": {
    "execution": {
     "iopub.execute_input": "2022-05-30T16:48:40.368928Z",
     "iopub.status.busy": "2022-05-30T16:48:40.368294Z",
     "iopub.status.idle": "2022-05-30T16:48:42.346566Z",
     "shell.execute_reply": "2022-05-30T16:48:42.345710Z"
    },
    "papermill": {
     "duration": 2.004394,
     "end_time": "2022-05-30T16:48:42.348516",
     "exception": false,
     "start_time": "2022-05-30T16:48:40.344122",
     "status": "completed"
    },
    "tags": []
   },
   "outputs": [
    {
     "data": {
      "image/png": "[encoded data removed]",
      "text/plain": [
       "<Figure size 1800x1080 with 1 Axes>"
      ]
     },
     "metadata": {},
     "output_type": "display_data"
    },
    {
     "data": {
      "text/plain": [
       "<Figure size 1800x1080 with 0 Axes>"
      ]
     },
     "metadata": {},
     "output_type": "display_data"
    }
   ],
   "source": [
    "xt = df.drop('y',axis =1)\n",
    "yt = df['y']\n",
    "from sklearn.feature_selection import mutual_info_classif\n",
    "import matplotlib.pyplot as plt\n",
    "importances=mutual_info_classif(xt,yt)\n",
    "feat_importances=pd.Series(importances,xt.columns[0:len(xt.columns)])\n",
    "feat_importances.nlargest(20).plot(kind='barh',color='teal')\n",
    "plt.figure(figsize=(25,15))\n",
    "plt.show()"
   ]
  },
  {
   "cell_type": "code",
   "execution_count": 10,
   "id": "719f697f",
   "metadata": {
    "execution": {
     "iopub.execute_input": "2022-05-30T16:48:42.399846Z",
     "iopub.status.busy": "2022-05-30T16:48:42.399079Z",
     "iopub.status.idle": "2022-05-30T16:49:02.136438Z",
     "shell.execute_reply": "2022-05-30T16:49:02.135205Z"
    },
    "papermill": {
     "duration": 19.765506,
     "end_time": "2022-05-30T16:49:02.138788",
     "exception": false,
     "start_time": "2022-05-30T16:48:42.373282",
     "status": "completed"
    },
    "tags": []
   },
   "outputs": [
    {
     "data": {
      "image/png": "[encoded data removed]",
      "text/plain": [
       "<Figure size 1800x1080 with 1 Axes>"
      ]
     },
     "metadata": {},
     "output_type": "display_data"
    }
   ],
   "source": [
    "from skfeature.function.similarity_based import fisher_score\n",
    "import matplotlib.pyplot as plt\n",
    "#Calculating scores\n",
    "#ranks=fisher_score.fisher_score(X_train,y_train)\n",
    "ranks= fisher_score.fisher_score(df.drop('y',axis =1).to_numpy(),df['y'].to_numpy())\n",
    "#Plotting the ranks\n",
    "feat_importances=pd.Series(ranks,df.drop('y',axis =1).columns[0:len(df.drop('y',axis =1).columns)])\n",
    "feat_importances.nlargest(20).plot(kind='barh',color='teal')\n",
    "plt.show()"
   ]
  },
  {
   "cell_type": "markdown",
   "id": "c8ad8f6a",
   "metadata": {
    "papermill": {
     "duration": 0.025206,
     "end_time": "2022-05-30T16:49:02.189373",
     "exception": false,
     "start_time": "2022-05-30T16:49:02.164167",
     "status": "completed"
    },
    "tags": []
   },
   "source": [
    "# 5. **Data preparation**"
   ]
  },
  {
   "cell_type": "markdown",
   "id": "1d8dba1e",
   "metadata": {
    "papermill": {
     "duration": 0.025222,
     "end_time": "2022-05-30T16:49:02.240434",
     "exception": false,
     "start_time": "2022-05-30T16:49:02.215212",
     "status": "completed"
    },
    "tags": []
   },
   "source": [
    "* ***Label Encoding***"
   ]
  },
  {
   "cell_type": "code",
   "execution_count": 11,
   "id": "a3874bb7",
   "metadata": {
    "execution": {
     "iopub.execute_input": "2022-05-30T16:49:02.293392Z",
     "iopub.status.busy": "2022-05-30T16:49:02.292967Z",
     "iopub.status.idle": "2022-05-30T16:49:02.303420Z",
     "shell.execute_reply": "2022-05-30T16:49:02.302665Z"
    },
    "papermill": {
     "duration": 0.03908,
     "end_time": "2022-05-30T16:49:02.305331",
     "exception": false,
     "start_time": "2022-05-30T16:49:02.266251",
     "status": "completed"
    },
    "tags": []
   },
   "outputs": [
    {
     "data": {
      "text/plain": [
       "array([4, 5, 3, 6, 0, 2, 1])"
      ]
     },
     "execution_count": 11,
     "metadata": {},
     "output_type": "execute_result"
    }
   ],
   "source": [
    "le = LabelEncoder()\n",
    "df['y'] = le.fit_transform(df['y'])\n",
    "df['y'].unique()"
   ]
  },
  {
   "cell_type": "code",
   "execution_count": 12,
   "id": "c020096a",
   "metadata": {
    "execution": {
     "iopub.execute_input": "2022-05-30T16:49:02.358814Z",
     "iopub.status.busy": "2022-05-30T16:49:02.358130Z",
     "iopub.status.idle": "2022-05-30T16:49:02.362647Z",
     "shell.execute_reply": "2022-05-30T16:49:02.361816Z"
    },
    "papermill": {
     "duration": 0.033385,
     "end_time": "2022-05-30T16:49:02.364666",
     "exception": false,
     "start_time": "2022-05-30T16:49:02.331281",
     "status": "completed"
    },
    "tags": []
   },
   "outputs": [],
   "source": [
    "#!pip install sklearn\n",
    "## splitting trainning Data to train and validation\n",
    "\n",
    "#all_features = df.drop('y',axis =1).columns\n",
    "## splitting\n",
    "#from sklearn.model_selection import cross_val_score,train_test_split\n",
    "\n",
    "#df_train, df_val = train_test_split(df, test_size=0.1, random_state=42,stratify=df['y'])\n",
    "\n",
    "#X_train = df_train[all_features]\n",
    "#y_train = df_train['y']\n",
    "\n",
    "#X_val = df_val[all_features]\n",
    "#y_val = df_val['y']\n",
    "\n",
    "#print(X_train.shape,X_val.shape,y_train.shape,y_val.shape)"
   ]
  },
  {
   "cell_type": "code",
   "execution_count": 13,
   "id": "b038b745",
   "metadata": {
    "execution": {
     "iopub.execute_input": "2022-05-30T16:49:02.419469Z",
     "iopub.status.busy": "2022-05-30T16:49:02.418434Z",
     "iopub.status.idle": "2022-05-30T16:49:02.459422Z",
     "shell.execute_reply": "2022-05-30T16:49:02.458381Z"
    },
    "papermill": {
     "duration": 0.070571,
     "end_time": "2022-05-30T16:49:02.461626",
     "exception": false,
     "start_time": "2022-05-30T16:49:02.391055",
     "status": "completed"
    },
    "tags": []
   },
   "outputs": [
    {
     "data": {
      "text/html": [
       "<div>\n",
       "<style scoped>\n",
       "    .dataframe tbody tr th:only-of-type {\n",
       "        vertical-align: middle;\n",
       "    }\n",
       "\n",
       "    .dataframe tbody tr th {\n",
       "        vertical-align: top;\n",
       "    }\n",
       "\n",
       "    .dataframe thead th {\n",
       "        text-align: right;\n",
       "    }\n",
       "</style>\n",
       "<table border=\"1\" class=\"dataframe\">\n",
       "  <thead>\n",
       "    <tr style=\"text-align: right;\">\n",
       "      <th></th>\n",
       "      <th>Area</th>\n",
       "      <th>Perimeter</th>\n",
       "      <th>MajorAxisLength</th>\n",
       "      <th>MinorAxisLength</th>\n",
       "      <th>AspectRation</th>\n",
       "      <th>Eccentricity</th>\n",
       "      <th>ConvexArea</th>\n",
       "      <th>EquivDiameter</th>\n",
       "      <th>Extent</th>\n",
       "      <th>Solidity</th>\n",
       "      <th>...</th>\n",
       "      <th>ShapeFactor3</th>\n",
       "      <th>ShapeFactor4</th>\n",
       "      <th>ShapeFactor5</th>\n",
       "      <th>ShapeFactor6</th>\n",
       "      <th>ShapeFactor7</th>\n",
       "      <th>Bounding_rectangular_area</th>\n",
       "      <th>elipse_area</th>\n",
       "      <th>elipse_perimeter</th>\n",
       "      <th>area_diff</th>\n",
       "      <th>perimeter_diff</th>\n",
       "    </tr>\n",
       "    <tr>\n",
       "      <th>ID</th>\n",
       "      <th></th>\n",
       "      <th></th>\n",
       "      <th></th>\n",
       "      <th></th>\n",
       "      <th></th>\n",
       "      <th></th>\n",
       "      <th></th>\n",
       "      <th></th>\n",
       "      <th></th>\n",
       "      <th></th>\n",
       "      <th></th>\n",
       "      <th></th>\n",
       "      <th></th>\n",
       "      <th></th>\n",
       "      <th></th>\n",
       "      <th></th>\n",
       "      <th></th>\n",
       "      <th></th>\n",
       "      <th></th>\n",
       "      <th></th>\n",
       "      <th></th>\n",
       "    </tr>\n",
       "  </thead>\n",
       "  <tbody>\n",
       "    <tr>\n",
       "      <th>10834</th>\n",
       "      <td>57659</td>\n",
       "      <td>955.434</td>\n",
       "      <td>387.757607</td>\n",
       "      <td>196.625782</td>\n",
       "      <td>1.972059</td>\n",
       "      <td>0.861896</td>\n",
       "      <td>60188</td>\n",
       "      <td>270.949661</td>\n",
       "      <td>0.620790</td>\n",
       "      <td>0.957982</td>\n",
       "      <td>...</td>\n",
       "      <td>0.488266</td>\n",
       "      <td>0.962889</td>\n",
       "      <td>0.405844</td>\n",
       "      <td>35794.146006</td>\n",
       "      <td>49696.089219</td>\n",
       "      <td>92880.0</td>\n",
       "      <td>59881.224320</td>\n",
       "      <td>965.797476</td>\n",
       "      <td>2222.224320</td>\n",
       "      <td>10.363476</td>\n",
       "    </tr>\n",
       "    <tr>\n",
       "      <th>10835</th>\n",
       "      <td>28772</td>\n",
       "      <td>630.362</td>\n",
       "      <td>229.990785</td>\n",
       "      <td>159.609367</td>\n",
       "      <td>1.440960</td>\n",
       "      <td>0.719993</td>\n",
       "      <td>29127</td>\n",
       "      <td>191.399185</td>\n",
       "      <td>0.767458</td>\n",
       "      <td>0.987812</td>\n",
       "      <td>...</td>\n",
       "      <td>0.692563</td>\n",
       "      <td>0.997956</td>\n",
       "      <td>0.364855</td>\n",
       "      <td>22081.301254</td>\n",
       "      <td>20715.631792</td>\n",
       "      <td>37490.0</td>\n",
       "      <td>28830.932669</td>\n",
       "      <td>621.888210</td>\n",
       "      <td>58.932669</td>\n",
       "      <td>-8.473790</td>\n",
       "    </tr>\n",
       "    <tr>\n",
       "      <th>10836</th>\n",
       "      <td>54677</td>\n",
       "      <td>911.022</td>\n",
       "      <td>308.853903</td>\n",
       "      <td>226.398571</td>\n",
       "      <td>1.364204</td>\n",
       "      <td>0.680198</td>\n",
       "      <td>55858</td>\n",
       "      <td>263.850182</td>\n",
       "      <td>0.753013</td>\n",
       "      <td>0.978857</td>\n",
       "      <td>...</td>\n",
       "      <td>0.729808</td>\n",
       "      <td>0.995607</td>\n",
       "      <td>0.339019</td>\n",
       "      <td>41172.471513</td>\n",
       "      <td>37191.209202</td>\n",
       "      <td>72611.0</td>\n",
       "      <td>54918.245860</td>\n",
       "      <td>850.690407</td>\n",
       "      <td>241.245860</td>\n",
       "      <td>-60.331593</td>\n",
       "    </tr>\n",
       "    <tr>\n",
       "      <th>10837</th>\n",
       "      <td>24827</td>\n",
       "      <td>578.304</td>\n",
       "      <td>214.192699</td>\n",
       "      <td>147.788172</td>\n",
       "      <td>1.449322</td>\n",
       "      <td>0.723831</td>\n",
       "      <td>25121</td>\n",
       "      <td>177.794033</td>\n",
       "      <td>0.716508</td>\n",
       "      <td>0.988297</td>\n",
       "      <td>...</td>\n",
       "      <td>0.689009</td>\n",
       "      <td>0.998596</td>\n",
       "      <td>0.370381</td>\n",
       "      <td>17788.742540</td>\n",
       "      <td>17970.544486</td>\n",
       "      <td>34650.0</td>\n",
       "      <td>24861.894666</td>\n",
       "      <td>578.086581</td>\n",
       "      <td>34.894666</td>\n",
       "      <td>-0.217419</td>\n",
       "    </tr>\n",
       "    <tr>\n",
       "      <th>10838</th>\n",
       "      <td>141850</td>\n",
       "      <td>1432.847</td>\n",
       "      <td>524.923471</td>\n",
       "      <td>346.910920</td>\n",
       "      <td>1.513136</td>\n",
       "      <td>0.750492</td>\n",
       "      <td>143680</td>\n",
       "      <td>424.981211</td>\n",
       "      <td>0.804617</td>\n",
       "      <td>0.987263</td>\n",
       "      <td>...</td>\n",
       "      <td>0.655462</td>\n",
       "      <td>0.991803</td>\n",
       "      <td>0.366350</td>\n",
       "      <td>114134.958450</td>\n",
       "      <td>106457.351687</td>\n",
       "      <td>176295.0</td>\n",
       "      <td>143022.328304</td>\n",
       "      <td>1397.729554</td>\n",
       "      <td>1172.328304</td>\n",
       "      <td>-35.117446</td>\n",
       "    </tr>\n",
       "    <tr>\n",
       "      <th>...</th>\n",
       "      <td>...</td>\n",
       "      <td>...</td>\n",
       "      <td>...</td>\n",
       "      <td>...</td>\n",
       "      <td>...</td>\n",
       "      <td>...</td>\n",
       "      <td>...</td>\n",
       "      <td>...</td>\n",
       "      <td>...</td>\n",
       "      <td>...</td>\n",
       "      <td>...</td>\n",
       "      <td>...</td>\n",
       "      <td>...</td>\n",
       "      <td>...</td>\n",
       "      <td>...</td>\n",
       "      <td>...</td>\n",
       "      <td>...</td>\n",
       "      <td>...</td>\n",
       "      <td>...</td>\n",
       "      <td>...</td>\n",
       "      <td>...</td>\n",
       "    </tr>\n",
       "    <tr>\n",
       "      <th>13538</th>\n",
       "      <td>66833</td>\n",
       "      <td>1018.336</td>\n",
       "      <td>400.397077</td>\n",
       "      <td>214.346215</td>\n",
       "      <td>1.867992</td>\n",
       "      <td>0.844640</td>\n",
       "      <td>67787</td>\n",
       "      <td>291.709476</td>\n",
       "      <td>0.759604</td>\n",
       "      <td>0.985927</td>\n",
       "      <td>...</td>\n",
       "      <td>0.530786</td>\n",
       "      <td>0.991504</td>\n",
       "      <td>0.393188</td>\n",
       "      <td>50766.615396</td>\n",
       "      <td>56449.851077</td>\n",
       "      <td>87984.0</td>\n",
       "      <td>67405.696009</td>\n",
       "      <td>1008.891846</td>\n",
       "      <td>572.696009</td>\n",
       "      <td>-9.444154</td>\n",
       "    </tr>\n",
       "    <tr>\n",
       "      <th>13539</th>\n",
       "      <td>40572</td>\n",
       "      <td>725.331</td>\n",
       "      <td>250.714014</td>\n",
       "      <td>206.471935</td>\n",
       "      <td>1.214276</td>\n",
       "      <td>0.567264</td>\n",
       "      <td>40900</td>\n",
       "      <td>227.283688</td>\n",
       "      <td>0.767479</td>\n",
       "      <td>0.991980</td>\n",
       "      <td>...</td>\n",
       "      <td>0.821825</td>\n",
       "      <td>0.997923</td>\n",
       "      <td>0.345655</td>\n",
       "      <td>31138.150424</td>\n",
       "      <td>23015.054574</td>\n",
       "      <td>52864.0</td>\n",
       "      <td>40656.456087</td>\n",
       "      <td>721.500719</td>\n",
       "      <td>84.456087</td>\n",
       "      <td>-3.830281</td>\n",
       "    </tr>\n",
       "    <tr>\n",
       "      <th>13540</th>\n",
       "      <td>61226</td>\n",
       "      <td>1008.378</td>\n",
       "      <td>408.227467</td>\n",
       "      <td>199.385082</td>\n",
       "      <td>2.047432</td>\n",
       "      <td>0.872611</td>\n",
       "      <td>63901</td>\n",
       "      <td>279.204879</td>\n",
       "      <td>0.611648</td>\n",
       "      <td>0.958138</td>\n",
       "      <td>...</td>\n",
       "      <td>0.467780</td>\n",
       "      <td>0.957748</td>\n",
       "      <td>0.404836</td>\n",
       "      <td>37448.781978</td>\n",
       "      <td>53426.454493</td>\n",
       "      <td>100100.0</td>\n",
       "      <td>63927.064974</td>\n",
       "      <td>1009.238965</td>\n",
       "      <td>2701.064974</td>\n",
       "      <td>0.860965</td>\n",
       "    </tr>\n",
       "    <tr>\n",
       "      <th>13541</th>\n",
       "      <td>34238</td>\n",
       "      <td>698.847</td>\n",
       "      <td>255.829224</td>\n",
       "      <td>170.867099</td>\n",
       "      <td>1.497241</td>\n",
       "      <td>0.744255</td>\n",
       "      <td>34724</td>\n",
       "      <td>208.789788</td>\n",
       "      <td>0.724890</td>\n",
       "      <td>0.986004</td>\n",
       "      <td>...</td>\n",
       "      <td>0.666067</td>\n",
       "      <td>0.997263</td>\n",
       "      <td>0.366073</td>\n",
       "      <td>24818.780572</td>\n",
       "      <td>25481.815571</td>\n",
       "      <td>47232.0</td>\n",
       "      <td>34331.950629</td>\n",
       "      <td>683.410707</td>\n",
       "      <td>93.950629</td>\n",
       "      <td>-15.436293</td>\n",
       "    </tr>\n",
       "    <tr>\n",
       "      <th>13542</th>\n",
       "      <td>49175</td>\n",
       "      <td>828.597</td>\n",
       "      <td>310.354804</td>\n",
       "      <td>202.329323</td>\n",
       "      <td>1.533909</td>\n",
       "      <td>0.758280</td>\n",
       "      <td>49668</td>\n",
       "      <td>250.223010</td>\n",
       "      <td>0.798166</td>\n",
       "      <td>0.990074</td>\n",
       "      <td>...</td>\n",
       "      <td>0.650036</td>\n",
       "      <td>0.997096</td>\n",
       "      <td>0.374555</td>\n",
       "      <td>39249.807255</td>\n",
       "      <td>37288.416106</td>\n",
       "      <td>61610.0</td>\n",
       "      <td>49318.196095</td>\n",
       "      <td>823.005120</td>\n",
       "      <td>143.196095</td>\n",
       "      <td>-5.591880</td>\n",
       "    </tr>\n",
       "  </tbody>\n",
       "</table>\n",
       "<p>2709 rows × 24 columns</p>\n",
       "</div>"
      ],
      "text/plain": [
       "         Area  Perimeter  MajorAxisLength  MinorAxisLength  AspectRation  \\\n",
       "ID                                                                         \n",
       "10834   57659    955.434       387.757607       196.625782      1.972059   \n",
       "10835   28772    630.362       229.990785       159.609367      1.440960   \n",
       "10836   54677    911.022       308.853903       226.398571      1.364204   \n",
       "10837   24827    578.304       214.192699       147.788172      1.449322   \n",
       "10838  141850   1432.847       524.923471       346.910920      1.513136   \n",
       "...       ...        ...              ...              ...           ...   \n",
       "13538   66833   1018.336       400.397077       214.346215      1.867992   \n",
       "13539   40572    725.331       250.714014       206.471935      1.214276   \n",
       "13540   61226   1008.378       408.227467       199.385082      2.047432   \n",
       "13541   34238    698.847       255.829224       170.867099      1.497241   \n",
       "13542   49175    828.597       310.354804       202.329323      1.533909   \n",
       "\n",
       "       Eccentricity  ConvexArea  EquivDiameter    Extent  Solidity  ...  \\\n",
       "ID                                                                  ...   \n",
       "10834      0.861896       60188     270.949661  0.620790  0.957982  ...   \n",
       "10835      0.719993       29127     191.399185  0.767458  0.987812  ...   \n",
       "10836      0.680198       55858     263.850182  0.753013  0.978857  ...   \n",
       "10837      0.723831       25121     177.794033  0.716508  0.988297  ...   \n",
       "10838      0.750492      143680     424.981211  0.804617  0.987263  ...   \n",
       "...             ...         ...            ...       ...       ...  ...   \n",
       "13538      0.844640       67787     291.709476  0.759604  0.985927  ...   \n",
       "13539      0.567264       40900     227.283688  0.767479  0.991980  ...   \n",
       "13540      0.872611       63901     279.204879  0.611648  0.958138  ...   \n",
       "13541      0.744255       34724     208.789788  0.724890  0.986004  ...   \n",
       "13542      0.758280       49668     250.223010  0.798166  0.990074  ...   \n",
       "\n",
       "       ShapeFactor3  ShapeFactor4  ShapeFactor5   ShapeFactor6   ShapeFactor7  \\\n",
       "ID                                                                              \n",
       "10834      0.488266      0.962889      0.405844   35794.146006   49696.089219   \n",
       "10835      0.692563      0.997956      0.364855   22081.301254   20715.631792   \n",
       "10836      0.729808      0.995607      0.339019   41172.471513   37191.209202   \n",
       "10837      0.689009      0.998596      0.370381   17788.742540   17970.544486   \n",
       "10838      0.655462      0.991803      0.366350  114134.958450  106457.351687   \n",
       "...             ...           ...           ...            ...            ...   \n",
       "13538      0.530786      0.991504      0.393188   50766.615396   56449.851077   \n",
       "13539      0.821825      0.997923      0.345655   31138.150424   23015.054574   \n",
       "13540      0.467780      0.957748      0.404836   37448.781978   53426.454493   \n",
       "13541      0.666067      0.997263      0.366073   24818.780572   25481.815571   \n",
       "13542      0.650036      0.997096      0.374555   39249.807255   37288.416106   \n",
       "\n",
       "       Bounding_rectangular_area    elipse_area  elipse_perimeter  \\\n",
       "ID                                                                  \n",
       "10834                    92880.0   59881.224320        965.797476   \n",
       "10835                    37490.0   28830.932669        621.888210   \n",
       "10836                    72611.0   54918.245860        850.690407   \n",
       "10837                    34650.0   24861.894666        578.086581   \n",
       "10838                   176295.0  143022.328304       1397.729554   \n",
       "...                          ...            ...               ...   \n",
       "13538                    87984.0   67405.696009       1008.891846   \n",
       "13539                    52864.0   40656.456087        721.500719   \n",
       "13540                   100100.0   63927.064974       1009.238965   \n",
       "13541                    47232.0   34331.950629        683.410707   \n",
       "13542                    61610.0   49318.196095        823.005120   \n",
       "\n",
       "         area_diff  perimeter_diff  \n",
       "ID                                  \n",
       "10834  2222.224320       10.363476  \n",
       "10835    58.932669       -8.473790  \n",
       "10836   241.245860      -60.331593  \n",
       "10837    34.894666       -0.217419  \n",
       "10838  1172.328304      -35.117446  \n",
       "...            ...             ...  \n",
       "13538   572.696009       -9.444154  \n",
       "13539    84.456087       -3.830281  \n",
       "13540  2701.064974        0.860965  \n",
       "13541    93.950629      -15.436293  \n",
       "13542   143.196095       -5.591880  \n",
       "\n",
       "[2709 rows x 24 columns]"
      ]
     },
     "execution_count": 13,
     "metadata": {},
     "output_type": "execute_result"
    }
   ],
   "source": [
    "# After getting our best parameters using validation set we do not need to splitting trainning data any more\n",
    "# to get advantage of all training samples...\n",
    "\n",
    "X = df.drop('y',axis =1)\n",
    "y = df['y']\n",
    "X_test = df_test.copy()\n",
    "X_test"
   ]
  },
  {
   "cell_type": "markdown",
   "id": "4b1f507b",
   "metadata": {
    "papermill": {
     "duration": 0.0265,
     "end_time": "2022-05-30T16:49:02.514548",
     "exception": false,
     "start_time": "2022-05-30T16:49:02.488048",
     "status": "completed"
    },
    "tags": []
   },
   "source": [
    "* ***Data Preprocessing***"
   ]
  },
  {
   "cell_type": "code",
   "execution_count": 14,
   "id": "10bef718",
   "metadata": {
    "execution": {
     "iopub.execute_input": "2022-05-30T16:49:02.569921Z",
     "iopub.status.busy": "2022-05-30T16:49:02.569490Z",
     "iopub.status.idle": "2022-05-30T16:49:02.576030Z",
     "shell.execute_reply": "2022-05-30T16:49:02.574844Z"
    },
    "papermill": {
     "duration": 0.036699,
     "end_time": "2022-05-30T16:49:02.578203",
     "exception": false,
     "start_time": "2022-05-30T16:49:02.541504",
     "status": "completed"
    },
    "tags": []
   },
   "outputs": [],
   "source": [
    "def scale_features(scaler,X,isTest = False):\n",
    "    X_cp = X.copy()\n",
    "    if(isTest):\n",
    "        X_scaled = scaler.transform(X)\n",
    "    else:\n",
    "        X_scaled = scaler.fit_transform(X)\n",
    "        \n",
    "    scaled_df = pd.DataFrame(X_scaled,index=X_cp.index)\n",
    "    scaled_df.columns = X_cp.columns\n",
    "    return scaled_df"
   ]
  },
  {
   "cell_type": "code",
   "execution_count": 15,
   "id": "93a5706a",
   "metadata": {
    "execution": {
     "iopub.execute_input": "2022-05-30T16:49:02.633168Z",
     "iopub.status.busy": "2022-05-30T16:49:02.632752Z",
     "iopub.status.idle": "2022-05-30T16:49:02.695395Z",
     "shell.execute_reply": "2022-05-30T16:49:02.694393Z"
    },
    "papermill": {
     "duration": 0.092949,
     "end_time": "2022-05-30T16:49:02.697692",
     "exception": false,
     "start_time": "2022-05-30T16:49:02.604743",
     "status": "completed"
    },
    "tags": []
   },
   "outputs": [
    {
     "data": {
      "text/html": [
       "<div>\n",
       "<style scoped>\n",
       "    .dataframe tbody tr th:only-of-type {\n",
       "        vertical-align: middle;\n",
       "    }\n",
       "\n",
       "    .dataframe tbody tr th {\n",
       "        vertical-align: top;\n",
       "    }\n",
       "\n",
       "    .dataframe thead th {\n",
       "        text-align: right;\n",
       "    }\n",
       "</style>\n",
       "<table border=\"1\" class=\"dataframe\">\n",
       "  <thead>\n",
       "    <tr style=\"text-align: right;\">\n",
       "      <th></th>\n",
       "      <th>Area</th>\n",
       "      <th>Perimeter</th>\n",
       "      <th>MajorAxisLength</th>\n",
       "      <th>MinorAxisLength</th>\n",
       "      <th>AspectRation</th>\n",
       "      <th>Eccentricity</th>\n",
       "      <th>ConvexArea</th>\n",
       "      <th>EquivDiameter</th>\n",
       "      <th>Extent</th>\n",
       "      <th>Solidity</th>\n",
       "      <th>...</th>\n",
       "      <th>ShapeFactor3</th>\n",
       "      <th>ShapeFactor4</th>\n",
       "      <th>ShapeFactor5</th>\n",
       "      <th>ShapeFactor6</th>\n",
       "      <th>ShapeFactor7</th>\n",
       "      <th>Bounding_rectangular_area</th>\n",
       "      <th>elipse_area</th>\n",
       "      <th>elipse_perimeter</th>\n",
       "      <th>area_diff</th>\n",
       "      <th>perimeter_diff</th>\n",
       "    </tr>\n",
       "    <tr>\n",
       "      <th>ID</th>\n",
       "      <th></th>\n",
       "      <th></th>\n",
       "      <th></th>\n",
       "      <th></th>\n",
       "      <th></th>\n",
       "      <th></th>\n",
       "      <th></th>\n",
       "      <th></th>\n",
       "      <th></th>\n",
       "      <th></th>\n",
       "      <th></th>\n",
       "      <th></th>\n",
       "      <th></th>\n",
       "      <th></th>\n",
       "      <th></th>\n",
       "      <th></th>\n",
       "      <th></th>\n",
       "      <th></th>\n",
       "      <th></th>\n",
       "      <th></th>\n",
       "      <th></th>\n",
       "    </tr>\n",
       "  </thead>\n",
       "  <tbody>\n",
       "    <tr>\n",
       "      <th>0</th>\n",
       "      <td>0.544777</td>\n",
       "      <td>0.653008</td>\n",
       "      <td>0.822611</td>\n",
       "      <td>-0.134810</td>\n",
       "      <td>2.125342</td>\n",
       "      <td>1.266132</td>\n",
       "      <td>0.541883</td>\n",
       "      <td>0.527444</td>\n",
       "      <td>-2.281944</td>\n",
       "      <td>-0.187074</td>\n",
       "      <td>...</td>\n",
       "      <td>-1.525751</td>\n",
       "      <td>0.522756</td>\n",
       "      <td>1.409726</td>\n",
       "      <td>0.118116</td>\n",
       "      <td>0.699556</td>\n",
       "      <td>0.979320</td>\n",
       "      <td>0.534534</td>\n",
       "      <td>0.726527</td>\n",
       "      <td>-0.278952</td>\n",
       "      <td>0.759212</td>\n",
       "    </tr>\n",
       "    <tr>\n",
       "      <th>1</th>\n",
       "      <td>-0.005210</td>\n",
       "      <td>-0.132903</td>\n",
       "      <td>-0.251184</td>\n",
       "      <td>0.518081</td>\n",
       "      <td>-1.146089</td>\n",
       "      <td>-1.844348</td>\n",
       "      <td>-0.014420</td>\n",
       "      <td>-0.005407</td>\n",
       "      <td>0.170410</td>\n",
       "      <td>1.320036</td>\n",
       "      <td>...</td>\n",
       "      <td>1.427720</td>\n",
       "      <td>0.231459</td>\n",
       "      <td>-0.923778</td>\n",
       "      <td>0.069386</td>\n",
       "      <td>-0.282472</td>\n",
       "      <td>-0.044235</td>\n",
       "      <td>-0.007077</td>\n",
       "      <td>-0.105829</td>\n",
       "      <td>-0.155404</td>\n",
       "      <td>0.466394</td>\n",
       "    </tr>\n",
       "    <tr>\n",
       "      <th>2</th>\n",
       "      <td>-0.520329</td>\n",
       "      <td>-0.514704</td>\n",
       "      <td>-0.460767</td>\n",
       "      <td>-0.582377</td>\n",
       "      <td>-0.467863</td>\n",
       "      <td>-0.559845</td>\n",
       "      <td>-0.513866</td>\n",
       "      <td>-0.585815</td>\n",
       "      <td>0.606030</td>\n",
       "      <td>0.022075</td>\n",
       "      <td>...</td>\n",
       "      <td>0.515092</td>\n",
       "      <td>0.318841</td>\n",
       "      <td>-0.269052</td>\n",
       "      <td>-0.436178</td>\n",
       "      <td>-0.432603</td>\n",
       "      <td>-0.525891</td>\n",
       "      <td>-0.517469</td>\n",
       "      <td>-0.513241</td>\n",
       "      <td>-0.314296</td>\n",
       "      <td>0.263788</td>\n",
       "    </tr>\n",
       "    <tr>\n",
       "      <th>3</th>\n",
       "      <td>-0.235136</td>\n",
       "      <td>-0.219625</td>\n",
       "      <td>-0.227884</td>\n",
       "      <td>-0.204482</td>\n",
       "      <td>-0.341812</td>\n",
       "      <td>-0.390431</td>\n",
       "      <td>-0.232756</td>\n",
       "      <td>-0.252418</td>\n",
       "      <td>0.088051</td>\n",
       "      <td>0.169199</td>\n",
       "      <td>...</td>\n",
       "      <td>0.379505</td>\n",
       "      <td>0.678516</td>\n",
       "      <td>-0.317999</td>\n",
       "      <td>-0.192119</td>\n",
       "      <td>-0.209607</td>\n",
       "      <td>-0.231512</td>\n",
       "      <td>-0.237581</td>\n",
       "      <td>-0.238154</td>\n",
       "      <td>-0.463118</td>\n",
       "      <td>-0.367538</td>\n",
       "    </tr>\n",
       "    <tr>\n",
       "      <th>4</th>\n",
       "      <td>-0.084764</td>\n",
       "      <td>-0.067434</td>\n",
       "      <td>-0.123724</td>\n",
       "      <td>0.017199</td>\n",
       "      <td>-0.353592</td>\n",
       "      <td>-0.405610</td>\n",
       "      <td>-0.083071</td>\n",
       "      <td>-0.088966</td>\n",
       "      <td>-0.445350</td>\n",
       "      <td>0.030919</td>\n",
       "      <td>...</td>\n",
       "      <td>0.376076</td>\n",
       "      <td>0.026261</td>\n",
       "      <td>-0.440091</td>\n",
       "      <td>-0.117252</td>\n",
       "      <td>-0.104740</td>\n",
       "      <td>-0.028492</td>\n",
       "      <td>-0.084369</td>\n",
       "      <td>-0.104573</td>\n",
       "      <td>-0.044934</td>\n",
       "      <td>-0.857487</td>\n",
       "    </tr>\n",
       "    <tr>\n",
       "      <th>...</th>\n",
       "      <td>...</td>\n",
       "      <td>...</td>\n",
       "      <td>...</td>\n",
       "      <td>...</td>\n",
       "      <td>...</td>\n",
       "      <td>...</td>\n",
       "      <td>...</td>\n",
       "      <td>...</td>\n",
       "      <td>...</td>\n",
       "      <td>...</td>\n",
       "      <td>...</td>\n",
       "      <td>...</td>\n",
       "      <td>...</td>\n",
       "      <td>...</td>\n",
       "      <td>...</td>\n",
       "      <td>...</td>\n",
       "      <td>...</td>\n",
       "      <td>...</td>\n",
       "      <td>...</td>\n",
       "      <td>...</td>\n",
       "      <td>...</td>\n",
       "    </tr>\n",
       "    <tr>\n",
       "      <th>10829</th>\n",
       "      <td>-0.275254</td>\n",
       "      <td>-0.285869</td>\n",
       "      <td>-0.376958</td>\n",
       "      <td>0.004325</td>\n",
       "      <td>-0.935135</td>\n",
       "      <td>-1.358423</td>\n",
       "      <td>-0.273273</td>\n",
       "      <td>-0.297348</td>\n",
       "      <td>0.152410</td>\n",
       "      <td>0.298521</td>\n",
       "      <td>...</td>\n",
       "      <td>1.117794</td>\n",
       "      <td>0.311838</td>\n",
       "      <td>-0.970360</td>\n",
       "      <td>-0.225974</td>\n",
       "      <td>-0.372021</td>\n",
       "      <td>-0.273574</td>\n",
       "      <td>-0.274908</td>\n",
       "      <td>-0.320586</td>\n",
       "      <td>-0.262066</td>\n",
       "      <td>-0.635259</td>\n",
       "    </tr>\n",
       "    <tr>\n",
       "      <th>10830</th>\n",
       "      <td>-0.499289</td>\n",
       "      <td>-0.463814</td>\n",
       "      <td>-0.396505</td>\n",
       "      <td>-0.646034</td>\n",
       "      <td>-0.208108</td>\n",
       "      <td>-0.226761</td>\n",
       "      <td>-0.492393</td>\n",
       "      <td>-0.560012</td>\n",
       "      <td>-0.416126</td>\n",
       "      <td>-0.094299</td>\n",
       "      <td>...</td>\n",
       "      <td>0.223425</td>\n",
       "      <td>0.297061</td>\n",
       "      <td>-0.101472</td>\n",
       "      <td>-0.538615</td>\n",
       "      <td>-0.378695</td>\n",
       "      <td>-0.407286</td>\n",
       "      <td>-0.496531</td>\n",
       "      <td>-0.470684</td>\n",
       "      <td>-0.299823</td>\n",
       "      <td>0.058145</td>\n",
       "    </tr>\n",
       "    <tr>\n",
       "      <th>10831</th>\n",
       "      <td>1.490572</td>\n",
       "      <td>1.111362</td>\n",
       "      <td>1.121513</td>\n",
       "      <td>1.183961</td>\n",
       "      <td>0.908998</td>\n",
       "      <td>0.712292</td>\n",
       "      <td>1.465738</td>\n",
       "      <td>1.313311</td>\n",
       "      <td>0.174105</td>\n",
       "      <td>0.689293</td>\n",
       "      <td>...</td>\n",
       "      <td>-0.785281</td>\n",
       "      <td>-0.471938</td>\n",
       "      <td>0.886921</td>\n",
       "      <td>1.692115</td>\n",
       "      <td>1.351192</td>\n",
       "      <td>1.236594</td>\n",
       "      <td>1.483292</td>\n",
       "      <td>1.215554</td>\n",
       "      <td>1.038427</td>\n",
       "      <td>1.001006</td>\n",
       "    </tr>\n",
       "    <tr>\n",
       "      <th>10832</th>\n",
       "      <td>0.142957</td>\n",
       "      <td>0.119973</td>\n",
       "      <td>0.108203</td>\n",
       "      <td>0.163350</td>\n",
       "      <td>0.011054</td>\n",
       "      <td>0.011196</td>\n",
       "      <td>0.142201</td>\n",
       "      <td>0.145397</td>\n",
       "      <td>-1.220961</td>\n",
       "      <td>0.028761</td>\n",
       "      <td>...</td>\n",
       "      <td>-0.018000</td>\n",
       "      <td>-0.381389</td>\n",
       "      <td>0.041052</td>\n",
       "      <td>-0.027144</td>\n",
       "      <td>0.130861</td>\n",
       "      <td>0.314443</td>\n",
       "      <td>0.144553</td>\n",
       "      <td>0.125077</td>\n",
       "      <td>0.315106</td>\n",
       "      <td>-0.170406</td>\n",
       "    </tr>\n",
       "    <tr>\n",
       "      <th>10833</th>\n",
       "      <td>-0.666052</td>\n",
       "      <td>-0.672253</td>\n",
       "      <td>-0.660297</td>\n",
       "      <td>-0.647157</td>\n",
       "      <td>-0.928946</td>\n",
       "      <td>-1.345608</td>\n",
       "      <td>-0.660103</td>\n",
       "      <td>-0.770725</td>\n",
       "      <td>0.243004</td>\n",
       "      <td>0.446164</td>\n",
       "      <td>...</td>\n",
       "      <td>1.120006</td>\n",
       "      <td>0.694466</td>\n",
       "      <td>-0.840696</td>\n",
       "      <td>-0.639230</td>\n",
       "      <td>-0.614843</td>\n",
       "      <td>-0.616640</td>\n",
       "      <td>-0.663427</td>\n",
       "      <td>-0.694242</td>\n",
       "      <td>-0.497807</td>\n",
       "      <td>-0.074976</td>\n",
       "    </tr>\n",
       "  </tbody>\n",
       "</table>\n",
       "<p>10834 rows × 24 columns</p>\n",
       "</div>"
      ],
      "text/plain": [
       "           Area  Perimeter  MajorAxisLength  MinorAxisLength  AspectRation  \\\n",
       "ID                                                                           \n",
       "0      0.544777   0.653008         0.822611        -0.134810      2.125342   \n",
       "1     -0.005210  -0.132903        -0.251184         0.518081     -1.146089   \n",
       "2     -0.520329  -0.514704        -0.460767        -0.582377     -0.467863   \n",
       "3     -0.235136  -0.219625        -0.227884        -0.204482     -0.341812   \n",
       "4     -0.084764  -0.067434        -0.123724         0.017199     -0.353592   \n",
       "...         ...        ...              ...              ...           ...   \n",
       "10829 -0.275254  -0.285869        -0.376958         0.004325     -0.935135   \n",
       "10830 -0.499289  -0.463814        -0.396505        -0.646034     -0.208108   \n",
       "10831  1.490572   1.111362         1.121513         1.183961      0.908998   \n",
       "10832  0.142957   0.119973         0.108203         0.163350      0.011054   \n",
       "10833 -0.666052  -0.672253        -0.660297        -0.647157     -0.928946   \n",
       "\n",
       "       Eccentricity  ConvexArea  EquivDiameter    Extent  Solidity  ...  \\\n",
       "ID                                                                  ...   \n",
       "0          1.266132    0.541883       0.527444 -2.281944 -0.187074  ...   \n",
       "1         -1.844348   -0.014420      -0.005407  0.170410  1.320036  ...   \n",
       "2         -0.559845   -0.513866      -0.585815  0.606030  0.022075  ...   \n",
       "3         -0.390431   -0.232756      -0.252418  0.088051  0.169199  ...   \n",
       "4         -0.405610   -0.083071      -0.088966 -0.445350  0.030919  ...   \n",
       "...             ...         ...            ...       ...       ...  ...   \n",
       "10829     -1.358423   -0.273273      -0.297348  0.152410  0.298521  ...   \n",
       "10830     -0.226761   -0.492393      -0.560012 -0.416126 -0.094299  ...   \n",
       "10831      0.712292    1.465738       1.313311  0.174105  0.689293  ...   \n",
       "10832      0.011196    0.142201       0.145397 -1.220961  0.028761  ...   \n",
       "10833     -1.345608   -0.660103      -0.770725  0.243004  0.446164  ...   \n",
       "\n",
       "       ShapeFactor3  ShapeFactor4  ShapeFactor5  ShapeFactor6  ShapeFactor7  \\\n",
       "ID                                                                            \n",
       "0         -1.525751      0.522756      1.409726      0.118116      0.699556   \n",
       "1          1.427720      0.231459     -0.923778      0.069386     -0.282472   \n",
       "2          0.515092      0.318841     -0.269052     -0.436178     -0.432603   \n",
       "3          0.379505      0.678516     -0.317999     -0.192119     -0.209607   \n",
       "4          0.376076      0.026261     -0.440091     -0.117252     -0.104740   \n",
       "...             ...           ...           ...           ...           ...   \n",
       "10829      1.117794      0.311838     -0.970360     -0.225974     -0.372021   \n",
       "10830      0.223425      0.297061     -0.101472     -0.538615     -0.378695   \n",
       "10831     -0.785281     -0.471938      0.886921      1.692115      1.351192   \n",
       "10832     -0.018000     -0.381389      0.041052     -0.027144      0.130861   \n",
       "10833      1.120006      0.694466     -0.840696     -0.639230     -0.614843   \n",
       "\n",
       "       Bounding_rectangular_area  elipse_area  elipse_perimeter  area_diff  \\\n",
       "ID                                                                           \n",
       "0                       0.979320     0.534534          0.726527  -0.278952   \n",
       "1                      -0.044235    -0.007077         -0.105829  -0.155404   \n",
       "2                      -0.525891    -0.517469         -0.513241  -0.314296   \n",
       "3                      -0.231512    -0.237581         -0.238154  -0.463118   \n",
       "4                      -0.028492    -0.084369         -0.104573  -0.044934   \n",
       "...                          ...          ...               ...        ...   \n",
       "10829                  -0.273574    -0.274908         -0.320586  -0.262066   \n",
       "10830                  -0.407286    -0.496531         -0.470684  -0.299823   \n",
       "10831                   1.236594     1.483292          1.215554   1.038427   \n",
       "10832                   0.314443     0.144553          0.125077   0.315106   \n",
       "10833                  -0.616640    -0.663427         -0.694242  -0.497807   \n",
       "\n",
       "       perimeter_diff  \n",
       "ID                     \n",
       "0            0.759212  \n",
       "1            0.466394  \n",
       "2            0.263788  \n",
       "3           -0.367538  \n",
       "4           -0.857487  \n",
       "...               ...  \n",
       "10829       -0.635259  \n",
       "10830        0.058145  \n",
       "10831        1.001006  \n",
       "10832       -0.170406  \n",
       "10833       -0.074976  \n",
       "\n",
       "[10834 rows x 24 columns]"
      ]
     },
     "execution_count": 15,
     "metadata": {},
     "output_type": "execute_result"
    }
   ],
   "source": [
    "# Scalling \n",
    "# we choose RobustScaler as it handle outliers well\n",
    "from sklearn.preprocessing import PowerTransformer,RobustScaler,StandardScaler\n",
    "\n",
    "#scaler = StandardScaler()\n",
    "#scaler = PowerTransformer(method='box-cox')\n",
    "scaler = RobustScaler()\n",
    "\n",
    "#X_train = scale_features(scaler,X_train)\n",
    "#X_val = scale_features(scaler,X_val,True)\n",
    "\n",
    "X_train = scale_features(scaler,X)\n",
    "X_test = scale_features(scaler,df_test,True)\n",
    "X_train"
   ]
  },
  {
   "cell_type": "code",
   "execution_count": 16,
   "id": "18c7628c",
   "metadata": {
    "execution": {
     "iopub.execute_input": "2022-05-30T16:49:02.769580Z",
     "iopub.status.busy": "2022-05-30T16:49:02.768995Z",
     "iopub.status.idle": "2022-05-30T16:49:02.815778Z",
     "shell.execute_reply": "2022-05-30T16:49:02.814529Z"
    },
    "papermill": {
     "duration": 0.089448,
     "end_time": "2022-05-30T16:49:02.818232",
     "exception": false,
     "start_time": "2022-05-30T16:49:02.728784",
     "status": "completed"
    },
    "tags": []
   },
   "outputs": [
    {
     "data": {
      "text/html": [
       "<div>\n",
       "<style scoped>\n",
       "    .dataframe tbody tr th:only-of-type {\n",
       "        vertical-align: middle;\n",
       "    }\n",
       "\n",
       "    .dataframe tbody tr th {\n",
       "        vertical-align: top;\n",
       "    }\n",
       "\n",
       "    .dataframe thead th {\n",
       "        text-align: right;\n",
       "    }\n",
       "</style>\n",
       "<table border=\"1\" class=\"dataframe\">\n",
       "  <thead>\n",
       "    <tr style=\"text-align: right;\">\n",
       "      <th></th>\n",
       "      <th>Area</th>\n",
       "      <th>Perimeter</th>\n",
       "      <th>MajorAxisLength</th>\n",
       "      <th>MinorAxisLength</th>\n",
       "      <th>AspectRation</th>\n",
       "      <th>Eccentricity</th>\n",
       "      <th>ConvexArea</th>\n",
       "      <th>EquivDiameter</th>\n",
       "      <th>Extent</th>\n",
       "      <th>Solidity</th>\n",
       "      <th>...</th>\n",
       "      <th>ShapeFactor3</th>\n",
       "      <th>ShapeFactor4</th>\n",
       "      <th>ShapeFactor5</th>\n",
       "      <th>ShapeFactor6</th>\n",
       "      <th>ShapeFactor7</th>\n",
       "      <th>Bounding_rectangular_area</th>\n",
       "      <th>elipse_area</th>\n",
       "      <th>elipse_perimeter</th>\n",
       "      <th>area_diff</th>\n",
       "      <th>perimeter_diff</th>\n",
       "    </tr>\n",
       "    <tr>\n",
       "      <th>ID</th>\n",
       "      <th></th>\n",
       "      <th></th>\n",
       "      <th></th>\n",
       "      <th></th>\n",
       "      <th></th>\n",
       "      <th></th>\n",
       "      <th></th>\n",
       "      <th></th>\n",
       "      <th></th>\n",
       "      <th></th>\n",
       "      <th></th>\n",
       "      <th></th>\n",
       "      <th></th>\n",
       "      <th></th>\n",
       "      <th></th>\n",
       "      <th></th>\n",
       "      <th></th>\n",
       "      <th></th>\n",
       "      <th></th>\n",
       "      <th></th>\n",
       "      <th></th>\n",
       "    </tr>\n",
       "  </thead>\n",
       "  <tbody>\n",
       "    <tr>\n",
       "      <th>10834</th>\n",
       "      <td>0.521572</td>\n",
       "      <td>0.594648</td>\n",
       "      <td>0.745551</td>\n",
       "      <td>0.099080</td>\n",
       "      <td>1.560107</td>\n",
       "      <td>1.047026</td>\n",
       "      <td>0.589336</td>\n",
       "      <td>0.506322</td>\n",
       "      <td>-2.046469</td>\n",
       "      <td>-6.907949</td>\n",
       "      <td>...</td>\n",
       "      <td>-1.363941</td>\n",
       "      <td>-7.967580</td>\n",
       "      <td>1.286056</td>\n",
       "      <td>0.150452</td>\n",
       "      <td>0.633272</td>\n",
       "      <td>0.888677</td>\n",
       "      <td>0.596313</td>\n",
       "      <td>0.690530</td>\n",
       "      <td>7.181309</td>\n",
       "      <td>1.248629</td>\n",
       "    </tr>\n",
       "    <tr>\n",
       "      <th>10835</th>\n",
       "      <td>-0.636154</td>\n",
       "      <td>-0.600838</td>\n",
       "      <td>-0.541634</td>\n",
       "      <td>-0.795292</td>\n",
       "      <td>-0.406601</td>\n",
       "      <td>-0.475544</td>\n",
       "      <td>-0.627776</td>\n",
       "      <td>-0.731851</td>\n",
       "      <td>0.107458</td>\n",
       "      <td>-0.109056</td>\n",
       "      <td>...</td>\n",
       "      <td>0.445220</td>\n",
       "      <td>0.370789</td>\n",
       "      <td>-0.352603</td>\n",
       "      <td>-0.621561</td>\n",
       "      <td>-0.504530</td>\n",
       "      <td>-0.579376</td>\n",
       "      <td>-0.632334</td>\n",
       "      <td>-0.625180</td>\n",
       "      <td>-0.359144</td>\n",
       "      <td>-0.178547</td>\n",
       "    </tr>\n",
       "    <tr>\n",
       "      <th>10836</th>\n",
       "      <td>0.402060</td>\n",
       "      <td>0.431318</td>\n",
       "      <td>0.101793</td>\n",
       "      <td>0.818435</td>\n",
       "      <td>-0.690836</td>\n",
       "      <td>-0.902521</td>\n",
       "      <td>0.419667</td>\n",
       "      <td>0.395821</td>\n",
       "      <td>-0.104683</td>\n",
       "      <td>-2.150044</td>\n",
       "      <td>...</td>\n",
       "      <td>0.775044</td>\n",
       "      <td>-0.187713</td>\n",
       "      <td>-1.385463</td>\n",
       "      <td>0.453244</td>\n",
       "      <td>0.142318</td>\n",
       "      <td>0.351469</td>\n",
       "      <td>0.399930</td>\n",
       "      <td>0.250159</td>\n",
       "      <td>0.276334</td>\n",
       "      <td>-4.107472</td>\n",
       "    </tr>\n",
       "    <tr>\n",
       "      <th>10837</th>\n",
       "      <td>-0.794261</td>\n",
       "      <td>-0.792286</td>\n",
       "      <td>-0.670527</td>\n",
       "      <td>-1.080910</td>\n",
       "      <td>-0.375636</td>\n",
       "      <td>-0.434364</td>\n",
       "      <td>-0.784749</td>\n",
       "      <td>-0.943610</td>\n",
       "      <td>-0.640782</td>\n",
       "      <td>0.001404</td>\n",
       "      <td>...</td>\n",
       "      <td>0.413749</td>\n",
       "      <td>0.523101</td>\n",
       "      <td>-0.131698</td>\n",
       "      <td>-0.863226</td>\n",
       "      <td>-0.612305</td>\n",
       "      <td>-0.654647</td>\n",
       "      <td>-0.789388</td>\n",
       "      <td>-0.792753</td>\n",
       "      <td>-0.442931</td>\n",
       "      <td>0.446984</td>\n",
       "    </tr>\n",
       "    <tr>\n",
       "      <th>10838</th>\n",
       "      <td>3.895758</td>\n",
       "      <td>2.350384</td>\n",
       "      <td>1.864658</td>\n",
       "      <td>3.730193</td>\n",
       "      <td>-0.139327</td>\n",
       "      <td>-0.148295</td>\n",
       "      <td>3.860934</td>\n",
       "      <td>2.903764</td>\n",
       "      <td>0.653170</td>\n",
       "      <td>-0.234100</td>\n",
       "      <td>...</td>\n",
       "      <td>0.116669</td>\n",
       "      <td>-1.092257</td>\n",
       "      <td>-0.292841</td>\n",
       "      <td>4.560927</td>\n",
       "      <td>2.861775</td>\n",
       "      <td>3.099502</td>\n",
       "      <td>3.886173</td>\n",
       "      <td>2.342991</td>\n",
       "      <td>3.521751</td>\n",
       "      <td>-2.197161</td>\n",
       "    </tr>\n",
       "    <tr>\n",
       "      <th>...</th>\n",
       "      <td>...</td>\n",
       "      <td>...</td>\n",
       "      <td>...</td>\n",
       "      <td>...</td>\n",
       "      <td>...</td>\n",
       "      <td>...</td>\n",
       "      <td>...</td>\n",
       "      <td>...</td>\n",
       "      <td>...</td>\n",
       "      <td>...</td>\n",
       "      <td>...</td>\n",
       "      <td>...</td>\n",
       "      <td>...</td>\n",
       "      <td>...</td>\n",
       "      <td>...</td>\n",
       "      <td>...</td>\n",
       "      <td>...</td>\n",
       "      <td>...</td>\n",
       "      <td>...</td>\n",
       "      <td>...</td>\n",
       "      <td>...</td>\n",
       "    </tr>\n",
       "    <tr>\n",
       "      <th>13538</th>\n",
       "      <td>0.889245</td>\n",
       "      <td>0.825977</td>\n",
       "      <td>0.848674</td>\n",
       "      <td>0.527232</td>\n",
       "      <td>1.174739</td>\n",
       "      <td>0.861875</td>\n",
       "      <td>0.887099</td>\n",
       "      <td>0.829441</td>\n",
       "      <td>-0.007883</td>\n",
       "      <td>-0.538795</td>\n",
       "      <td>...</td>\n",
       "      <td>-0.987406</td>\n",
       "      <td>-1.163459</td>\n",
       "      <td>0.780064</td>\n",
       "      <td>0.993381</td>\n",
       "      <td>0.898431</td>\n",
       "      <td>0.758914</td>\n",
       "      <td>0.894053</td>\n",
       "      <td>0.855398</td>\n",
       "      <td>1.431650</td>\n",
       "      <td>-0.252065</td>\n",
       "    </tr>\n",
       "    <tr>\n",
       "      <th>13539</th>\n",
       "      <td>-0.163237</td>\n",
       "      <td>-0.251579</td>\n",
       "      <td>-0.372557</td>\n",
       "      <td>0.336978</td>\n",
       "      <td>-1.246033</td>\n",
       "      <td>-2.114257</td>\n",
       "      <td>-0.166456</td>\n",
       "      <td>-0.173322</td>\n",
       "      <td>0.107764</td>\n",
       "      <td>0.841010</td>\n",
       "      <td>...</td>\n",
       "      <td>1.589905</td>\n",
       "      <td>0.362886</td>\n",
       "      <td>-1.120192</td>\n",
       "      <td>-0.111673</td>\n",
       "      <td>-0.414252</td>\n",
       "      <td>-0.171905</td>\n",
       "      <td>-0.164403</td>\n",
       "      <td>-0.244088</td>\n",
       "      <td>-0.270178</td>\n",
       "      <td>0.173262</td>\n",
       "    </tr>\n",
       "    <tr>\n",
       "      <th>13540</th>\n",
       "      <td>0.664529</td>\n",
       "      <td>0.789355</td>\n",
       "      <td>0.912561</td>\n",
       "      <td>0.165749</td>\n",
       "      <td>1.839222</td>\n",
       "      <td>1.161984</td>\n",
       "      <td>0.734828</td>\n",
       "      <td>0.634811</td>\n",
       "      <td>-2.180725</td>\n",
       "      <td>-6.872231</td>\n",
       "      <td>...</td>\n",
       "      <td>-1.545357</td>\n",
       "      <td>-9.190226</td>\n",
       "      <td>1.245730</td>\n",
       "      <td>0.243606</td>\n",
       "      <td>0.779729</td>\n",
       "      <td>1.080035</td>\n",
       "      <td>0.756405</td>\n",
       "      <td>0.856726</td>\n",
       "      <td>8.850374</td>\n",
       "      <td>0.528686</td>\n",
       "    </tr>\n",
       "    <tr>\n",
       "      <th>13541</th>\n",
       "      <td>-0.417089</td>\n",
       "      <td>-0.348977</td>\n",
       "      <td>-0.330823</td>\n",
       "      <td>-0.523288</td>\n",
       "      <td>-0.198188</td>\n",
       "      <td>-0.215216</td>\n",
       "      <td>-0.408460</td>\n",
       "      <td>-0.461173</td>\n",
       "      <td>-0.517686</td>\n",
       "      <td>-0.521151</td>\n",
       "      <td>...</td>\n",
       "      <td>0.210587</td>\n",
       "      <td>0.206131</td>\n",
       "      <td>-0.303902</td>\n",
       "      <td>-0.467445</td>\n",
       "      <td>-0.317405</td>\n",
       "      <td>-0.321175</td>\n",
       "      <td>-0.414661</td>\n",
       "      <td>-0.389810</td>\n",
       "      <td>-0.237084</td>\n",
       "      <td>-0.706050</td>\n",
       "    </tr>\n",
       "    <tr>\n",
       "      <th>13542</th>\n",
       "      <td>0.181552</td>\n",
       "      <td>0.128192</td>\n",
       "      <td>0.114039</td>\n",
       "      <td>0.236886</td>\n",
       "      <td>-0.062403</td>\n",
       "      <td>-0.064738</td>\n",
       "      <td>0.177114</td>\n",
       "      <td>0.183720</td>\n",
       "      <td>0.558427</td>\n",
       "      <td>0.406518</td>\n",
       "      <td>...</td>\n",
       "      <td>0.068622</td>\n",
       "      <td>0.166425</td>\n",
       "      <td>0.035160</td>\n",
       "      <td>0.345001</td>\n",
       "      <td>0.146134</td>\n",
       "      <td>0.059899</td>\n",
       "      <td>0.178338</td>\n",
       "      <td>0.144242</td>\n",
       "      <td>-0.065432</td>\n",
       "      <td>0.039797</td>\n",
       "    </tr>\n",
       "  </tbody>\n",
       "</table>\n",
       "<p>2709 rows × 24 columns</p>\n",
       "</div>"
      ],
      "text/plain": [
       "           Area  Perimeter  MajorAxisLength  MinorAxisLength  AspectRation  \\\n",
       "ID                                                                           \n",
       "10834  0.521572   0.594648         0.745551         0.099080      1.560107   \n",
       "10835 -0.636154  -0.600838        -0.541634        -0.795292     -0.406601   \n",
       "10836  0.402060   0.431318         0.101793         0.818435     -0.690836   \n",
       "10837 -0.794261  -0.792286        -0.670527        -1.080910     -0.375636   \n",
       "10838  3.895758   2.350384         1.864658         3.730193     -0.139327   \n",
       "...         ...        ...              ...              ...           ...   \n",
       "13538  0.889245   0.825977         0.848674         0.527232      1.174739   \n",
       "13539 -0.163237  -0.251579        -0.372557         0.336978     -1.246033   \n",
       "13540  0.664529   0.789355         0.912561         0.165749      1.839222   \n",
       "13541 -0.417089  -0.348977        -0.330823        -0.523288     -0.198188   \n",
       "13542  0.181552   0.128192         0.114039         0.236886     -0.062403   \n",
       "\n",
       "       Eccentricity  ConvexArea  EquivDiameter    Extent  Solidity  ...  \\\n",
       "ID                                                                  ...   \n",
       "10834      1.047026    0.589336       0.506322 -2.046469 -6.907949  ...   \n",
       "10835     -0.475544   -0.627776      -0.731851  0.107458 -0.109056  ...   \n",
       "10836     -0.902521    0.419667       0.395821 -0.104683 -2.150044  ...   \n",
       "10837     -0.434364   -0.784749      -0.943610 -0.640782  0.001404  ...   \n",
       "10838     -0.148295    3.860934       2.903764  0.653170 -0.234100  ...   \n",
       "...             ...         ...            ...       ...       ...  ...   \n",
       "13538      0.861875    0.887099       0.829441 -0.007883 -0.538795  ...   \n",
       "13539     -2.114257   -0.166456      -0.173322  0.107764  0.841010  ...   \n",
       "13540      1.161984    0.734828       0.634811 -2.180725 -6.872231  ...   \n",
       "13541     -0.215216   -0.408460      -0.461173 -0.517686 -0.521151  ...   \n",
       "13542     -0.064738    0.177114       0.183720  0.558427  0.406518  ...   \n",
       "\n",
       "       ShapeFactor3  ShapeFactor4  ShapeFactor5  ShapeFactor6  ShapeFactor7  \\\n",
       "ID                                                                            \n",
       "10834     -1.363941     -7.967580      1.286056      0.150452      0.633272   \n",
       "10835      0.445220      0.370789     -0.352603     -0.621561     -0.504530   \n",
       "10836      0.775044     -0.187713     -1.385463      0.453244      0.142318   \n",
       "10837      0.413749      0.523101     -0.131698     -0.863226     -0.612305   \n",
       "10838      0.116669     -1.092257     -0.292841      4.560927      2.861775   \n",
       "...             ...           ...           ...           ...           ...   \n",
       "13538     -0.987406     -1.163459      0.780064      0.993381      0.898431   \n",
       "13539      1.589905      0.362886     -1.120192     -0.111673     -0.414252   \n",
       "13540     -1.545357     -9.190226      1.245730      0.243606      0.779729   \n",
       "13541      0.210587      0.206131     -0.303902     -0.467445     -0.317405   \n",
       "13542      0.068622      0.166425      0.035160      0.345001      0.146134   \n",
       "\n",
       "       Bounding_rectangular_area  elipse_area  elipse_perimeter  area_diff  \\\n",
       "ID                                                                           \n",
       "10834                   0.888677     0.596313          0.690530   7.181309   \n",
       "10835                  -0.579376    -0.632334         -0.625180  -0.359144   \n",
       "10836                   0.351469     0.399930          0.250159   0.276334   \n",
       "10837                  -0.654647    -0.789388         -0.792753  -0.442931   \n",
       "10838                   3.099502     3.886173          2.342991   3.521751   \n",
       "...                          ...          ...               ...        ...   \n",
       "13538                   0.758914     0.894053          0.855398   1.431650   \n",
       "13539                  -0.171905    -0.164403         -0.244088  -0.270178   \n",
       "13540                   1.080035     0.756405          0.856726   8.850374   \n",
       "13541                  -0.321175    -0.414661         -0.389810  -0.237084   \n",
       "13542                   0.059899     0.178338          0.144242  -0.065432   \n",
       "\n",
       "       perimeter_diff  \n",
       "ID                     \n",
       "10834        1.248629  \n",
       "10835       -0.178547  \n",
       "10836       -4.107472  \n",
       "10837        0.446984  \n",
       "10838       -2.197161  \n",
       "...               ...  \n",
       "13538       -0.252065  \n",
       "13539        0.173262  \n",
       "13540        0.528686  \n",
       "13541       -0.706050  \n",
       "13542        0.039797  \n",
       "\n",
       "[2709 rows x 24 columns]"
      ]
     },
     "execution_count": 16,
     "metadata": {},
     "output_type": "execute_result"
    }
   ],
   "source": [
    "X_test"
   ]
  },
  {
   "cell_type": "markdown",
   "id": "549d9069",
   "metadata": {
    "papermill": {
     "duration": 0.026963,
     "end_time": "2022-05-30T16:49:02.872504",
     "exception": false,
     "start_time": "2022-05-30T16:49:02.845541",
     "status": "completed"
    },
    "tags": []
   },
   "source": [
    "# 6. **Dimensionality Reduction**"
   ]
  },
  {
   "cell_type": "markdown",
   "id": "f68b3ecf",
   "metadata": {
    "papermill": {
     "duration": 0.02718,
     "end_time": "2022-05-30T16:49:02.927032",
     "exception": false,
     "start_time": "2022-05-30T16:49:02.899852",
     "status": "completed"
    },
    "tags": []
   },
   "source": [
    "* ***Applying PCA***"
   ]
  },
  {
   "cell_type": "code",
   "execution_count": 17,
   "id": "c7690593",
   "metadata": {
    "execution": {
     "iopub.execute_input": "2022-05-30T16:49:02.983899Z",
     "iopub.status.busy": "2022-05-30T16:49:02.983140Z",
     "iopub.status.idle": "2022-05-30T16:49:03.510600Z",
     "shell.execute_reply": "2022-05-30T16:49:03.509486Z"
    },
    "papermill": {
     "duration": 0.558491,
     "end_time": "2022-05-30T16:49:03.512788",
     "exception": false,
     "start_time": "2022-05-30T16:49:02.954297",
     "status": "completed"
    },
    "tags": []
   },
   "outputs": [
    {
     "name": "stdout",
     "output_type": "stream",
     "text": [
      "[0.57217554 0.77539171 0.89696279 0.95921658 0.9772034  0.98584311\n",
      " 0.99280117 0.99649164 0.99911867 0.99941369 0.99968518 0.99988081\n",
      " 0.99994081 0.99997775 0.99998835 0.99999548 0.99999804 0.99999967\n",
      " 0.99999993 0.99999999 1.         1.         1.         1.        ]\n",
      "7\n"
     ]
    },
    {
     "data": {
      "image/png": "[encoded data removed]",
      "text/plain": [
       "<Figure size 1080x360 with 1 Axes>"
      ]
     },
     "metadata": {},
     "output_type": "display_data"
    }
   ],
   "source": [
    "from sklearn.decomposition import PCA\n",
    "\n",
    "pca = PCA(random_state=42)\n",
    "pca.fit(X_train)\n",
    "loadings = pca.components_\n",
    "num_pc = pca.n_features_\n",
    "pc_list = [\"PC\" + str(i) for i in list(range(1, num_pc + 1))]\n",
    "f, ax = plt.subplots(figsize=(15,5))\n",
    "plt.bar(x=pc_list, height=pca.explained_variance_ratio_)\n",
    "cumsum = np.cumsum(pca.explained_variance_ratio_)\n",
    "print(cumsum)\n",
    "# getting the best dimension\n",
    "best_dim = np.argmax(cumsum >= 0.99) + 1\n",
    "print(best_dim)"
   ]
  },
  {
   "cell_type": "code",
   "execution_count": 18,
   "id": "31c3e1cf",
   "metadata": {
    "execution": {
     "iopub.execute_input": "2022-05-30T16:49:03.569790Z",
     "iopub.status.busy": "2022-05-30T16:49:03.569346Z",
     "iopub.status.idle": "2022-05-30T16:49:03.698204Z",
     "shell.execute_reply": "2022-05-30T16:49:03.696870Z"
    },
    "papermill": {
     "duration": 0.160794,
     "end_time": "2022-05-30T16:49:03.701268",
     "exception": false,
     "start_time": "2022-05-30T16:49:03.540474",
     "status": "completed"
    },
    "tags": []
   },
   "outputs": [
    {
     "data": {
      "text/html": [
       "<div>\n",
       "<style scoped>\n",
       "    .dataframe tbody tr th:only-of-type {\n",
       "        vertical-align: middle;\n",
       "    }\n",
       "\n",
       "    .dataframe tbody tr th {\n",
       "        vertical-align: top;\n",
       "    }\n",
       "\n",
       "    .dataframe thead th {\n",
       "        text-align: right;\n",
       "    }\n",
       "</style>\n",
       "<table border=\"1\" class=\"dataframe\">\n",
       "  <thead>\n",
       "    <tr style=\"text-align: right;\">\n",
       "      <th></th>\n",
       "      <th>PCA1</th>\n",
       "      <th>PCA2</th>\n",
       "      <th>PCA3</th>\n",
       "      <th>PCA4</th>\n",
       "      <th>PCA5</th>\n",
       "      <th>PCA6</th>\n",
       "      <th>PCA7</th>\n",
       "    </tr>\n",
       "  </thead>\n",
       "  <tbody>\n",
       "    <tr>\n",
       "      <th>0</th>\n",
       "      <td>5.056450</td>\n",
       "      <td>-5.654258</td>\n",
       "      <td>5.175329</td>\n",
       "      <td>8.805691</td>\n",
       "      <td>1.435260</td>\n",
       "      <td>-0.718836</td>\n",
       "      <td>0.973929</td>\n",
       "    </tr>\n",
       "    <tr>\n",
       "      <th>1</th>\n",
       "      <td>-3.526497</td>\n",
       "      <td>0.321404</td>\n",
       "      <td>0.105664</td>\n",
       "      <td>0.201901</td>\n",
       "      <td>-0.238268</td>\n",
       "      <td>0.684493</td>\n",
       "      <td>0.042585</td>\n",
       "    </tr>\n",
       "    <tr>\n",
       "      <th>2</th>\n",
       "      <td>0.713144</td>\n",
       "      <td>3.713507</td>\n",
       "      <td>2.733832</td>\n",
       "      <td>0.057341</td>\n",
       "      <td>0.027753</td>\n",
       "      <td>-0.214881</td>\n",
       "      <td>0.724088</td>\n",
       "    </tr>\n",
       "    <tr>\n",
       "      <th>3</th>\n",
       "      <td>-4.269799</td>\n",
       "      <td>-0.296811</td>\n",
       "      <td>-0.154676</td>\n",
       "      <td>0.264030</td>\n",
       "      <td>0.484240</td>\n",
       "      <td>1.067005</td>\n",
       "      <td>0.076317</td>\n",
       "    </tr>\n",
       "    <tr>\n",
       "      <th>4</th>\n",
       "      <td>10.376317</td>\n",
       "      <td>2.593250</td>\n",
       "      <td>-2.062136</td>\n",
       "      <td>0.138874</td>\n",
       "      <td>-0.378205</td>\n",
       "      <td>0.192639</td>\n",
       "      <td>-0.226059</td>\n",
       "    </tr>\n",
       "    <tr>\n",
       "      <th>...</th>\n",
       "      <td>...</td>\n",
       "      <td>...</td>\n",
       "      <td>...</td>\n",
       "      <td>...</td>\n",
       "      <td>...</td>\n",
       "      <td>...</td>\n",
       "      <td>...</td>\n",
       "    </tr>\n",
       "    <tr>\n",
       "      <th>2704</th>\n",
       "      <td>2.636485</td>\n",
       "      <td>-1.887329</td>\n",
       "      <td>0.532355</td>\n",
       "      <td>-0.235277</td>\n",
       "      <td>-0.444548</td>\n",
       "      <td>-0.373621</td>\n",
       "      <td>-0.180524</td>\n",
       "    </tr>\n",
       "    <tr>\n",
       "      <th>2705</th>\n",
       "      <td>-2.685092</td>\n",
       "      <td>2.528735</td>\n",
       "      <td>-2.099368</td>\n",
       "      <td>0.837428</td>\n",
       "      <td>0.398844</td>\n",
       "      <td>-0.476271</td>\n",
       "      <td>-0.056169</td>\n",
       "    </tr>\n",
       "    <tr>\n",
       "      <th>2706</th>\n",
       "      <td>6.398395</td>\n",
       "      <td>-5.896609</td>\n",
       "      <td>6.113555</td>\n",
       "      <td>9.874991</td>\n",
       "      <td>1.509226</td>\n",
       "      <td>-0.765839</td>\n",
       "      <td>-0.224761</td>\n",
       "    </tr>\n",
       "    <tr>\n",
       "      <th>2707</th>\n",
       "      <td>-2.473802</td>\n",
       "      <td>0.253488</td>\n",
       "      <td>0.780824</td>\n",
       "      <td>-0.094934</td>\n",
       "      <td>0.280935</td>\n",
       "      <td>0.424556</td>\n",
       "      <td>0.177491</td>\n",
       "    </tr>\n",
       "    <tr>\n",
       "      <th>2708</th>\n",
       "      <td>-0.720553</td>\n",
       "      <td>0.013075</td>\n",
       "      <td>-0.878180</td>\n",
       "      <td>-0.490625</td>\n",
       "      <td>-0.680349</td>\n",
       "      <td>-0.246935</td>\n",
       "      <td>-0.049293</td>\n",
       "    </tr>\n",
       "  </tbody>\n",
       "</table>\n",
       "<p>2709 rows × 7 columns</p>\n",
       "</div>"
      ],
      "text/plain": [
       "           PCA1      PCA2      PCA3      PCA4      PCA5      PCA6      PCA7\n",
       "0      5.056450 -5.654258  5.175329  8.805691  1.435260 -0.718836  0.973929\n",
       "1     -3.526497  0.321404  0.105664  0.201901 -0.238268  0.684493  0.042585\n",
       "2      0.713144  3.713507  2.733832  0.057341  0.027753 -0.214881  0.724088\n",
       "3     -4.269799 -0.296811 -0.154676  0.264030  0.484240  1.067005  0.076317\n",
       "4     10.376317  2.593250 -2.062136  0.138874 -0.378205  0.192639 -0.226059\n",
       "...         ...       ...       ...       ...       ...       ...       ...\n",
       "2704   2.636485 -1.887329  0.532355 -0.235277 -0.444548 -0.373621 -0.180524\n",
       "2705  -2.685092  2.528735 -2.099368  0.837428  0.398844 -0.476271 -0.056169\n",
       "2706   6.398395 -5.896609  6.113555  9.874991  1.509226 -0.765839 -0.224761\n",
       "2707  -2.473802  0.253488  0.780824 -0.094934  0.280935  0.424556  0.177491\n",
       "2708  -0.720553  0.013075 -0.878180 -0.490625 -0.680349 -0.246935 -0.049293\n",
       "\n",
       "[2709 rows x 7 columns]"
      ]
     },
     "execution_count": 18,
     "metadata": {},
     "output_type": "execute_result"
    }
   ],
   "source": [
    "model_columns = X_train.columns.difference(['y'])\n",
    "\n",
    "# Choose n_components = 7\n",
    "pca = PCA(n_components=7, random_state=22)\n",
    "\n",
    "X_pca = pca.fit_transform(X_train[model_columns])\n",
    "#X_val_pca = pca.transform(X_val[model_columns])\n",
    "X_test_pca = pca.transform(X_test[model_columns])\n",
    "\n",
    "X_pca=pd.DataFrame(X_pca)\n",
    "X_pca.columns =['PCA1','PCA2','PCA3','PCA4','PCA5','PCA6','PCA7']\n",
    "\n",
    "#X_val_pca=pd.DataFrame(X_val_pca)\n",
    "#X_val_pca.columns =['PCA1','PCA2','PCA3','PCA4','PCA5','PCA6','PCA7']\n",
    "\n",
    "X_test_pca=pd.DataFrame(X_test_pca)\n",
    "X_test_pca.columns =['PCA1','PCA2','PCA3','PCA4','PCA5','PCA6','PCA7']\n",
    "\n",
    "X_test_pca"
   ]
  },
  {
   "cell_type": "code",
   "execution_count": 19,
   "id": "985122ac",
   "metadata": {
    "execution": {
     "iopub.execute_input": "2022-05-30T16:49:03.794086Z",
     "iopub.status.busy": "2022-05-30T16:49:03.793689Z",
     "iopub.status.idle": "2022-05-30T16:49:03.800934Z",
     "shell.execute_reply": "2022-05-30T16:49:03.799880Z"
    },
    "papermill": {
     "duration": 0.038826,
     "end_time": "2022-05-30T16:49:03.803172",
     "exception": false,
     "start_time": "2022-05-30T16:49:03.764346",
     "status": "completed"
    },
    "tags": []
   },
   "outputs": [
    {
     "data": {
      "text/plain": [
       "Index(['PCA1', 'PCA2', 'PCA3', 'PCA4', 'PCA5', 'PCA6', 'PCA7'], dtype='object')"
      ]
     },
     "execution_count": 19,
     "metadata": {},
     "output_type": "execute_result"
    }
   ],
   "source": [
    "# If PCA is applied\n",
    "X_train = X_pca\n",
    "#X_val = X_val_pca\n",
    "X_test = X_test_pca\n",
    "model_columns = X_pca.columns\n",
    "model_columns"
   ]
  },
  {
   "cell_type": "markdown",
   "id": "f56c4f34",
   "metadata": {
    "papermill": {
     "duration": 0.028132,
     "end_time": "2022-05-30T16:49:03.859487",
     "exception": false,
     "start_time": "2022-05-30T16:49:03.831355",
     "status": "completed"
    },
    "tags": []
   },
   "source": [
    "***"
   ]
  },
  {
   "cell_type": "markdown",
   "id": "fa700d7e",
   "metadata": {
    "papermill": {
     "duration": 0.028136,
     "end_time": "2022-05-30T16:49:03.916019",
     "exception": false,
     "start_time": "2022-05-30T16:49:03.887883",
     "status": "completed"
    },
    "tags": []
   },
   "source": [
    "# 7. **Modeling**"
   ]
  },
  {
   "cell_type": "markdown",
   "id": "6c184e9d",
   "metadata": {
    "papermill": {
     "duration": 0.027854,
     "end_time": "2022-05-30T16:49:03.972084",
     "exception": false,
     "start_time": "2022-05-30T16:49:03.944230",
     "status": "completed"
    },
    "tags": []
   },
   "source": [
    "* ***Our data is getting ready***"
   ]
  },
  {
   "cell_type": "code",
   "execution_count": 20,
   "id": "0cedf448",
   "metadata": {
    "execution": {
     "iopub.execute_input": "2022-05-30T16:49:04.031245Z",
     "iopub.status.busy": "2022-05-30T16:49:04.030564Z",
     "iopub.status.idle": "2022-05-30T16:49:04.034500Z",
     "shell.execute_reply": "2022-05-30T16:49:04.033825Z"
    },
    "papermill": {
     "duration": 0.03606,
     "end_time": "2022-05-30T16:49:04.036348",
     "exception": false,
     "start_time": "2022-05-30T16:49:04.000288",
     "status": "completed"
    },
    "tags": []
   },
   "outputs": [],
   "source": [
    "# a dataframe for comparing validation accuracy\n",
    "#acc_pred_test = pd.DataFrame ({'Model':'Model_name'\n",
    "#    ,'Score': ['Model_score']\n",
    "#    })"
   ]
  },
  {
   "cell_type": "code",
   "execution_count": 21,
   "id": "b728e13f",
   "metadata": {
    "execution": {
     "iopub.execute_input": "2022-05-30T16:49:04.095525Z",
     "iopub.status.busy": "2022-05-30T16:49:04.094490Z",
     "iopub.status.idle": "2022-05-30T16:49:04.103494Z",
     "shell.execute_reply": "2022-05-30T16:49:04.102463Z"
    },
    "papermill": {
     "duration": 0.040452,
     "end_time": "2022-05-30T16:49:04.105572",
     "exception": false,
     "start_time": "2022-05-30T16:49:04.065120",
     "status": "completed"
    },
    "tags": []
   },
   "outputs": [
    {
     "data": {
      "text/plain": [
       "'\\ndef evaluate_model(model,X_train,y_train,X_val,y_val,display_cm = False, model_name = \\'model_name\\'):\\n    c_labels = le.inverse_transform([0,1,2,3,4,5,6])\\n    \\n    # fitting\\n    model.fit(X_train, y_train)\\n    \\n    # predict\\n    y_train_pred = model.predict(X_train)\\n    y_val_pred = model.predict(X_val)\\n    \\n    print(\"#################### Train Evaluation ######################\")\\n    print(\"\")\\n    print(\\'Mean_F1_score\\', f1_score(y_train, y_train_pred, average=\\'micro\\'))\\n    print(\"Classification Report: \\n\", classification_report(y_train, y_train_pred))\\n    #new_row = {\\'model_name\\': model_name ,\\'Score\\': f1_score(y_train, y_train_pred, average=\\'micro\\')}\\n    #acc_pred_test.loc[len(acc_pred_test.index)] = [model_name, f1_score(y_val, y_val_pred, average=\\'micro\\')]\\n    print(\"\")\\n    print(\"#################### Validation Evaluation ######################\")\\n    print(\"\")\\n    print(\"Mean_F1_score: \", f1_score(y_val, y_val_pred, average=\\'micro\\'))\\n    print(\"Classification Report: \\n\", classification_report(y_val, y_val_pred))\\n    \\n    if(display_cm):\\n        \\n        cm = confusion_matrix(y_val, y_val_pred)\\n\\n        ax = sns.heatmap(cm,cmap=\\'Blues\\', annot=True, fmt=\\'\\')\\n\\n        ax.set_title(\\'Confusion Matrix with labels\\n\\n\\');\\n\\n        ## Ticket labels - List must be in alphabetical order\\n        ax.xaxis.set_ticklabels(c_labels)\\n        ax.yaxis.set_ticklabels(c_labels)\\n        plt.xticks(rotation=90)\\n        plt.yticks(rotation=0)\\n        plt.show()\\n'"
      ]
     },
     "execution_count": 21,
     "metadata": {},
     "output_type": "execute_result"
    }
   ],
   "source": [
    "# a function that used for comparing validation scores of the models.\n",
    "'''\n",
    "def evaluate_model(model,X_train,y_train,X_val,y_val,display_cm = False, model_name = 'model_name'):\n",
    "    c_labels = le.inverse_transform([0,1,2,3,4,5,6])\n",
    "    \n",
    "    # fitting\n",
    "    model.fit(X_train, y_train)\n",
    "    \n",
    "    # predict\n",
    "    y_train_pred = model.predict(X_train)\n",
    "    y_val_pred = model.predict(X_val)\n",
    "    \n",
    "    print(\"#################### Train Evaluation ######################\")\n",
    "    print(\"\")\n",
    "    print('Mean_F1_score', f1_score(y_train, y_train_pred, average='micro'))\n",
    "    print(\"Classification Report: \\n\", classification_report(y_train, y_train_pred))\n",
    "    #new_row = {'model_name': model_name ,'Score': f1_score(y_train, y_train_pred, average='micro')}\n",
    "    #acc_pred_test.loc[len(acc_pred_test.index)] = [model_name, f1_score(y_val, y_val_pred, average='micro')]\n",
    "    print(\"\")\n",
    "    print(\"#################### Validation Evaluation ######################\")\n",
    "    print(\"\")\n",
    "    print(\"Mean_F1_score: \", f1_score(y_val, y_val_pred, average='micro'))\n",
    "    print(\"Classification Report: \\n\", classification_report(y_val, y_val_pred))\n",
    "    \n",
    "    if(display_cm):\n",
    "        \n",
    "        cm = confusion_matrix(y_val, y_val_pred)\n",
    "\n",
    "        ax = sns.heatmap(cm,cmap='Blues', annot=True, fmt='')\n",
    "\n",
    "        ax.set_title('Confusion Matrix with labels\\n\\n');\n",
    "\n",
    "        ## Ticket labels - List must be in alphabetical order\n",
    "        ax.xaxis.set_ticklabels(c_labels)\n",
    "        ax.yaxis.set_ticklabels(c_labels)\n",
    "        plt.xticks(rotation=90)\n",
    "        plt.yticks(rotation=0)\n",
    "        plt.show()\n",
    "'''"
   ]
  },
  {
   "cell_type": "markdown",
   "id": "b590042c",
   "metadata": {
    "papermill": {
     "duration": 0.028301,
     "end_time": "2022-05-30T16:49:04.162599",
     "exception": false,
     "start_time": "2022-05-30T16:49:04.134298",
     "status": "completed"
    },
    "tags": []
   },
   "source": [
    "**Training and Evaluating For Models**"
   ]
  },
  {
   "cell_type": "markdown",
   "id": "69a3b3e1",
   "metadata": {
    "papermill": {
     "duration": 0.027757,
     "end_time": "2022-05-30T16:49:04.218580",
     "exception": false,
     "start_time": "2022-05-30T16:49:04.190823",
     "status": "completed"
    },
    "tags": []
   },
   "source": [
    "**1-XGB**"
   ]
  },
  {
   "cell_type": "code",
   "execution_count": 22,
   "id": "703b00f7",
   "metadata": {
    "execution": {
     "iopub.execute_input": "2022-05-30T16:49:04.276086Z",
     "iopub.status.busy": "2022-05-30T16:49:04.275705Z",
     "iopub.status.idle": "2022-05-30T16:49:09.959173Z",
     "shell.execute_reply": "2022-05-30T16:49:09.958185Z"
    },
    "papermill": {
     "duration": 5.714596,
     "end_time": "2022-05-30T16:49:09.961386",
     "exception": false,
     "start_time": "2022-05-30T16:49:04.246790",
     "status": "completed"
    },
    "tags": []
   },
   "outputs": [
    {
     "data": {
      "text/plain": [
       "XGBClassifier(base_score=0.5, booster='gbtree', callbacks=None,\n",
       "              colsample_bylevel=1, colsample_bynode=1, colsample_bytree=0.9,\n",
       "              early_stopping_rounds=None, enable_categorical=False,\n",
       "              eval_metric=None, gamma=0.5, gpu_id=-1, grow_policy='depthwise',\n",
       "              importance_type=None, interaction_constraints='',\n",
       "              learning_rate=0.09, max_bin=256, max_cat_to_onehot=4,\n",
       "              max_delta_step=0, max_depth=7, max_leaves=0, min_child_weight=2,\n",
       "              missing=nan, monotone_constraints='()', n_estimators=63, n_jobs=0,\n",
       "              num_class=7, num_parallel_tree=1, objective='multi:softprob',\n",
       "              predictor='auto', random_state=42, ...)"
      ]
     },
     "execution_count": 22,
     "metadata": {},
     "output_type": "execute_result"
    }
   ],
   "source": [
    "# xgb_model \n",
    "import xgboost as xgb\n",
    "\n",
    "xgb_model= xgb.XGBClassifier(random_state=42,\n",
    "                             objective='multi:softproba'\n",
    "                             ,n_estimators=63,num_class=7, \n",
    "                             max_depth=7, learning_rate=0.09,\n",
    "                             gamma=0.5,colsample_bytree=0.9,\n",
    "                             min_child_weight=2,\n",
    "                             sampling_method='gradient_based'\n",
    "                            )\n",
    "\n",
    "#evaluate_model(xgb_model,X_train,y_train,X_val,y_val,True,'xgb')\n",
    "\n",
    "# fitting\n",
    "xgb_model.fit(X_pca, y)"
   ]
  },
  {
   "cell_type": "code",
   "execution_count": 23,
   "id": "24ab7f1b",
   "metadata": {
    "execution": {
     "iopub.execute_input": "2022-05-30T16:49:10.020722Z",
     "iopub.status.busy": "2022-05-30T16:49:10.019950Z",
     "iopub.status.idle": "2022-05-30T16:49:10.049636Z",
     "shell.execute_reply": "2022-05-30T16:49:10.048843Z"
    },
    "papermill": {
     "duration": 0.061701,
     "end_time": "2022-05-30T16:49:10.051682",
     "exception": false,
     "start_time": "2022-05-30T16:49:09.989981",
     "status": "completed"
    },
    "tags": []
   },
   "outputs": [
    {
     "data": {
      "text/plain": [
       "array([4, 3, 0, ..., 4, 3, 6])"
      ]
     },
     "execution_count": 23,
     "metadata": {},
     "output_type": "execute_result"
    }
   ],
   "source": [
    "y_pred_xgb = xgb_model.predict(X_test_pca)\n",
    "y_pred_xgb"
   ]
  },
  {
   "cell_type": "markdown",
   "id": "a8b9ada3",
   "metadata": {
    "papermill": {
     "duration": 0.0282,
     "end_time": "2022-05-30T16:49:10.108550",
     "exception": false,
     "start_time": "2022-05-30T16:49:10.080350",
     "status": "completed"
    },
    "tags": []
   },
   "source": [
    "**2-LGB**"
   ]
  },
  {
   "cell_type": "code",
   "execution_count": 24,
   "id": "97361c5f",
   "metadata": {
    "execution": {
     "iopub.execute_input": "2022-05-30T16:49:10.168305Z",
     "iopub.status.busy": "2022-05-30T16:49:10.167334Z",
     "iopub.status.idle": "2022-05-30T16:49:12.296598Z",
     "shell.execute_reply": "2022-05-30T16:49:12.295357Z"
    },
    "papermill": {
     "duration": 2.161891,
     "end_time": "2022-05-30T16:49:12.299128",
     "exception": false,
     "start_time": "2022-05-30T16:49:10.137237",
     "status": "completed"
    },
    "tags": []
   },
   "outputs": [
    {
     "data": {
      "text/html": [
       "<style type='text/css'>\n",
       ".datatable table.frame { margin-bottom: 0; }\n",
       ".datatable table.frame thead { border-bottom: none; }\n",
       ".datatable table.frame tr.coltypes td {  color: #FFFFFF;  line-height: 6px;  padding: 0 0.5em;}\n",
       ".datatable .bool    { background: #DDDD99; }\n",
       ".datatable .object  { background: #565656; }\n",
       ".datatable .int     { background: #5D9E5D; }\n",
       ".datatable .float   { background: #4040CC; }\n",
       ".datatable .str     { background: #CC4040; }\n",
       ".datatable .time    { background: #40CC40; }\n",
       ".datatable .row_index {  background: var(--jp-border-color3);  border-right: 1px solid var(--jp-border-color0);  color: var(--jp-ui-font-color3);  font-size: 9px;}\n",
       ".datatable .frame tbody td { text-align: left; }\n",
       ".datatable .frame tr.coltypes .row_index {  background: var(--jp-border-color0);}\n",
       ".datatable th:nth-child(2) { padding-left: 12px; }\n",
       ".datatable .hellipsis {  color: var(--jp-cell-editor-border-color);}\n",
       ".datatable .vellipsis {  background: var(--jp-layout-color0);  color: var(--jp-cell-editor-border-color);}\n",
       ".datatable .na {  color: var(--jp-cell-editor-border-color);  font-size: 80%;}\n",
       ".datatable .sp {  opacity: 0.25;}\n",
       ".datatable .footer { font-size: 9px; }\n",
       ".datatable .frame_dimensions {  background: var(--jp-border-color3);  border-top: 1px solid var(--jp-border-color0);  color: var(--jp-ui-font-color3);  display: inline-block;  opacity: 0.6;  padding: 1px 10px 1px 5px;}\n",
       "</style>\n"
      ],
      "text/plain": [
       "<IPython.core.display.HTML object>"
      ]
     },
     "metadata": {},
     "output_type": "display_data"
    },
    {
     "data": {
      "text/plain": [
       "LGBMClassifier(learning_rate=0.05, objective='multiclass', random_state=42,\n",
       "               reg_alpha=0.005)"
      ]
     },
     "execution_count": 24,
     "metadata": {},
     "output_type": "execute_result"
    }
   ],
   "source": [
    "from lightgbm import LGBMClassifier\n",
    "\n",
    "#lgb_model\n",
    "lgb_model = LGBMClassifier(objective='multiclass',\n",
    "                           random_state=42,\n",
    "                           learning_rate=0.05, \n",
    "                           reg_alpha=0.005\n",
    "                          ) \n",
    "\n",
    "#evaluate_model(xgb_model,X_train,y_train,X_val,y_val,True,'lgb')\n",
    "\n",
    "# fitting\n",
    "lgb_model.fit(X_pca, y)"
   ]
  },
  {
   "cell_type": "code",
   "execution_count": 25,
   "id": "2855c4c6",
   "metadata": {
    "execution": {
     "iopub.execute_input": "2022-05-30T16:49:12.359313Z",
     "iopub.status.busy": "2022-05-30T16:49:12.358890Z",
     "iopub.status.idle": "2022-05-30T16:49:12.385644Z",
     "shell.execute_reply": "2022-05-30T16:49:12.384828Z"
    },
    "papermill": {
     "duration": 0.059343,
     "end_time": "2022-05-30T16:49:12.387605",
     "exception": false,
     "start_time": "2022-05-30T16:49:12.328262",
     "status": "completed"
    },
    "tags": []
   },
   "outputs": [
    {
     "data": {
      "text/plain": [
       "array([4, 3, 0, ..., 4, 3, 6])"
      ]
     },
     "execution_count": 25,
     "metadata": {},
     "output_type": "execute_result"
    }
   ],
   "source": [
    "y_pred_lgb = xgb_model.predict(X_test_pca)\n",
    "y_pred_lgb"
   ]
  },
  {
   "cell_type": "markdown",
   "id": "f9de6192",
   "metadata": {
    "papermill": {
     "duration": 0.028708,
     "end_time": "2022-05-30T16:49:12.445923",
     "exception": false,
     "start_time": "2022-05-30T16:49:12.417215",
     "status": "completed"
    },
    "tags": []
   },
   "source": [
    "**3-SVC**"
   ]
  },
  {
   "cell_type": "code",
   "execution_count": 26,
   "id": "e6c89513",
   "metadata": {
    "execution": {
     "iopub.execute_input": "2022-05-30T16:49:12.506441Z",
     "iopub.status.busy": "2022-05-30T16:49:12.505568Z",
     "iopub.status.idle": "2022-05-30T16:49:17.711377Z",
     "shell.execute_reply": "2022-05-30T16:49:17.710298Z"
    },
    "papermill": {
     "duration": 5.238294,
     "end_time": "2022-05-30T16:49:17.713458",
     "exception": false,
     "start_time": "2022-05-30T16:49:12.475164",
     "status": "completed"
    },
    "tags": []
   },
   "outputs": [
    {
     "data": {
      "text/plain": [
       "SVC(C=25, probability=True, random_state=42, tol=1e-06)"
      ]
     },
     "execution_count": 26,
     "metadata": {},
     "output_type": "execute_result"
    }
   ],
   "source": [
    "from sklearn.svm import SVC\n",
    "\n",
    "#svc_model\n",
    "svc_model = SVC(C=25,\n",
    "                kernel='rbf',\n",
    "                tol=1e-6, \n",
    "                random_state=42, \n",
    "                decision_function_shape='ovr',\n",
    "                probability=True) \n",
    "\n",
    "# evaluate_model(svc_model,X_train,y_train,X_val,y_val,True,'SVC')\n",
    "\n",
    "# fitting\n",
    "svc_model.fit(X_pca, y)"
   ]
  },
  {
   "cell_type": "code",
   "execution_count": 27,
   "id": "a5adde55",
   "metadata": {
    "execution": {
     "iopub.execute_input": "2022-05-30T16:49:17.773623Z",
     "iopub.status.busy": "2022-05-30T16:49:17.772974Z",
     "iopub.status.idle": "2022-05-30T16:49:18.100330Z",
     "shell.execute_reply": "2022-05-30T16:49:18.099344Z"
    },
    "papermill": {
     "duration": 0.359838,
     "end_time": "2022-05-30T16:49:18.102362",
     "exception": false,
     "start_time": "2022-05-30T16:49:17.742524",
     "status": "completed"
    },
    "tags": []
   },
   "outputs": [
    {
     "data": {
      "text/plain": [
       "array([4, 3, 0, ..., 4, 3, 6])"
      ]
     },
     "execution_count": 27,
     "metadata": {},
     "output_type": "execute_result"
    }
   ],
   "source": [
    "y_pred_svc = svc_model.predict(X_test_pca)\n",
    "y_pred_svc"
   ]
  },
  {
   "cell_type": "code",
   "execution_count": 28,
   "id": "773594cc",
   "metadata": {
    "execution": {
     "iopub.execute_input": "2022-05-30T16:49:18.163083Z",
     "iopub.status.busy": "2022-05-30T16:49:18.162469Z",
     "iopub.status.idle": "2022-05-30T16:49:18.167349Z",
     "shell.execute_reply": "2022-05-30T16:49:18.166649Z"
    },
    "papermill": {
     "duration": 0.037909,
     "end_time": "2022-05-30T16:49:18.169284",
     "exception": false,
     "start_time": "2022-05-30T16:49:18.131375",
     "status": "completed"
    },
    "tags": []
   },
   "outputs": [],
   "source": [
    "# Grid search example for tuning  hyper parameters of the svc model\n",
    "# from sklearn.model_selection import GridSearchCV\n",
    "# parameters = {'kernel':('linear', 'rbf'),\n",
    "#               'C':[1, 10]\n",
    "#              }\n",
    "# svc_params_to_be_searched = {'kernel': ('rbf','sigmoid'),\n",
    "#                              'C': [1, 10, 25], \n",
    "#                              'gamma' : [0.1,0.01,0.001],\n",
    "#                             }\n",
    "# grid = GridSearchCV(SVC(),svc_params_to_be_searched,refit=True,verbose=2)\n",
    "# grid.fit(X_train,y_train)\n",
    "# print(grid.best_params_)\n",
    "# print(grid.best_estimator_)\n",
    "# # {'C': [10,17.5], 'kernel': ('linear', 'rbf'),'gamma': [0.01,0.001]}\n",
    "# #sorted(clf.cv_results_.keys())"
   ]
  },
  {
   "cell_type": "markdown",
   "id": "0c707ffe",
   "metadata": {
    "papermill": {
     "duration": 0.029161,
     "end_time": "2022-05-30T16:49:18.227675",
     "exception": false,
     "start_time": "2022-05-30T16:49:18.198514",
     "status": "completed"
    },
    "tags": []
   },
   "source": [
    "**4-MLP**"
   ]
  },
  {
   "cell_type": "code",
   "execution_count": 29,
   "id": "17a1809a",
   "metadata": {
    "execution": {
     "iopub.execute_input": "2022-05-30T16:49:18.288580Z",
     "iopub.status.busy": "2022-05-30T16:49:18.287984Z",
     "iopub.status.idle": "2022-05-30T16:49:37.375519Z",
     "shell.execute_reply": "2022-05-30T16:49:37.374700Z"
    },
    "papermill": {
     "duration": 19.120645,
     "end_time": "2022-05-30T16:49:37.377674",
     "exception": false,
     "start_time": "2022-05-30T16:49:18.257029",
     "status": "completed"
    },
    "tags": []
   },
   "outputs": [
    {
     "data": {
      "text/plain": [
       "MLPClassifier(max_iter=600, random_state=42)"
      ]
     },
     "execution_count": 29,
     "metadata": {},
     "output_type": "execute_result"
    }
   ],
   "source": [
    "from sklearn.neural_network import MLPClassifier\n",
    "\n",
    "mlp_model = MLPClassifier(activation='relu',\n",
    "                          alpha=0.0001, \n",
    "                          batch_size='auto', \n",
    "                          learning_rate_init=0.001, \n",
    "                          max_iter=600,                \n",
    "                          random_state=42, \n",
    "                          shuffle=True, \n",
    "                          solver='adam',                \n",
    "                          tol=0.0001, \n",
    "                          validation_fraction=0.1, \n",
    "                         )\n",
    "\n",
    "#evaluate_model(mlp_model,X_train,y_train,X_val,y_val,True,'MLP')\n",
    "\n",
    "# fitting\n",
    "mlp_model.fit(X_pca, y)\n"
   ]
  },
  {
   "cell_type": "code",
   "execution_count": 30,
   "id": "6abf20e1",
   "metadata": {
    "execution": {
     "iopub.execute_input": "2022-05-30T16:49:37.438734Z",
     "iopub.status.busy": "2022-05-30T16:49:37.438319Z",
     "iopub.status.idle": "2022-05-30T16:49:37.456128Z",
     "shell.execute_reply": "2022-05-30T16:49:37.454978Z"
    },
    "papermill": {
     "duration": 0.051776,
     "end_time": "2022-05-30T16:49:37.459269",
     "exception": false,
     "start_time": "2022-05-30T16:49:37.407493",
     "status": "completed"
    },
    "tags": []
   },
   "outputs": [
    {
     "data": {
      "text/plain": [
       "array([4, 3, 0, ..., 4, 3, 6])"
      ]
     },
     "execution_count": 30,
     "metadata": {},
     "output_type": "execute_result"
    }
   ],
   "source": [
    "y_pred_mlp = mlp_model.predict(X_test_pca)\n",
    "y_pred_mlp"
   ]
  },
  {
   "cell_type": "markdown",
   "id": "06ff5c43",
   "metadata": {
    "papermill": {
     "duration": 0.056004,
     "end_time": "2022-05-30T16:49:37.571514",
     "exception": false,
     "start_time": "2022-05-30T16:49:37.515510",
     "status": "completed"
    },
    "tags": []
   },
   "source": [
    "**5-Extra Tree Classifier**"
   ]
  },
  {
   "cell_type": "code",
   "execution_count": 31,
   "id": "f7ed9c85",
   "metadata": {
    "execution": {
     "iopub.execute_input": "2022-05-30T16:49:37.632673Z",
     "iopub.status.busy": "2022-05-30T16:49:37.632297Z",
     "iopub.status.idle": "2022-05-30T16:49:38.308221Z",
     "shell.execute_reply": "2022-05-30T16:49:38.306996Z"
    },
    "papermill": {
     "duration": 0.709222,
     "end_time": "2022-05-30T16:49:38.310400",
     "exception": false,
     "start_time": "2022-05-30T16:49:37.601178",
     "status": "completed"
    },
    "tags": []
   },
   "outputs": [
    {
     "data": {
      "text/plain": [
       "ExtraTreesClassifier(n_estimators=101, n_jobs=-1, random_state=123)"
      ]
     },
     "execution_count": 31,
     "metadata": {},
     "output_type": "execute_result"
    }
   ],
   "source": [
    "from sklearn.ensemble import ExtraTreesClassifier\n",
    "\n",
    "exc_model = ExtraTreesClassifier(bootstrap=False, \n",
    "                                 criterion='gini', \n",
    "                                 max_features='auto',\n",
    "                                 min_samples_split=2,\n",
    "                                 n_estimators=101, \n",
    "                                 n_jobs=-1,\n",
    "                                 random_state=123, \n",
    "                                 verbose=0,\n",
    "                                 warm_start=False\n",
    "                                ) \n",
    "\n",
    "# evaluate_model(exc_model,X_train,y_train,X_val,y_val,True,'ExtraTrees')\n",
    "# fitting\n",
    "exc_model.fit(X_pca, y)"
   ]
  },
  {
   "cell_type": "code",
   "execution_count": 32,
   "id": "ed730c97",
   "metadata": {
    "execution": {
     "iopub.execute_input": "2022-05-30T16:49:38.373257Z",
     "iopub.status.busy": "2022-05-30T16:49:38.372029Z",
     "iopub.status.idle": "2022-05-30T16:49:38.486264Z",
     "shell.execute_reply": "2022-05-30T16:49:38.485284Z"
    },
    "papermill": {
     "duration": 0.148763,
     "end_time": "2022-05-30T16:49:38.489374",
     "exception": false,
     "start_time": "2022-05-30T16:49:38.340611",
     "status": "completed"
    },
    "tags": []
   },
   "outputs": [
    {
     "data": {
      "text/plain": [
       "array([4, 3, 0, ..., 4, 3, 6])"
      ]
     },
     "execution_count": 32,
     "metadata": {},
     "output_type": "execute_result"
    }
   ],
   "source": [
    "y_pred_exc = exc_model.predict(X_test)\n",
    "y_pred_exc"
   ]
  },
  {
   "cell_type": "markdown",
   "id": "30f0b7da",
   "metadata": {
    "papermill": {
     "duration": 0.029678,
     "end_time": "2022-05-30T16:49:38.553121",
     "exception": false,
     "start_time": "2022-05-30T16:49:38.523443",
     "status": "completed"
    },
    "tags": []
   },
   "source": [
    "**Models Voting**"
   ]
  },
  {
   "cell_type": "code",
   "execution_count": 33,
   "id": "6f5f5727",
   "metadata": {
    "execution": {
     "iopub.execute_input": "2022-05-30T16:49:38.614509Z",
     "iopub.status.busy": "2022-05-30T16:49:38.613682Z",
     "iopub.status.idle": "2022-05-30T16:50:10.538258Z",
     "shell.execute_reply": "2022-05-30T16:50:10.536157Z"
    },
    "papermill": {
     "duration": 31.988725,
     "end_time": "2022-05-30T16:50:10.571216",
     "exception": false,
     "start_time": "2022-05-30T16:49:38.582491",
     "status": "completed"
    },
    "tags": []
   },
   "outputs": [
    {
     "data": {
      "text/plain": [
       "VotingClassifier(estimators=[('SVC:',\n",
       "                              SVC(C=25, probability=True, random_state=42,\n",
       "                                  tol=1e-06)),\n",
       "                             ('LGB:',\n",
       "                              LGBMClassifier(learning_rate=0.05,\n",
       "                                             objective='multiclass',\n",
       "                                             random_state=42,\n",
       "                                             reg_alpha=0.005)),\n",
       "                             ('XGB:',\n",
       "                              XGBClassifier(base_score=0.5, booster='gbtree',\n",
       "                                            callbacks=None, colsample_bylevel=1,\n",
       "                                            colsample_bynode=1,\n",
       "                                            colsample_bytree=0.9,\n",
       "                                            early_stopping_rounds=None,\n",
       "                                            enab...\n",
       "                                            max_delta_step=0, max_depth=7,\n",
       "                                            max_leaves=0, min_child_weight=2,\n",
       "                                            missing=nan,\n",
       "                                            monotone_constraints='()',\n",
       "                                            n_estimators=63, n_jobs=0,\n",
       "                                            num_class=7, num_parallel_tree=1,\n",
       "                                            objective='multi:softprob',\n",
       "                                            predictor='auto', random_state=42, ...)),\n",
       "                             ('MLP:',\n",
       "                              MLPClassifier(max_iter=600, random_state=42)),\n",
       "                             ('EXtra:',\n",
       "                              ExtraTreesClassifier(n_estimators=101, n_jobs=-1,\n",
       "                                                   random_state=123))])"
      ]
     },
     "execution_count": 33,
     "metadata": {},
     "output_type": "execute_result"
    }
   ],
   "source": [
    "classifiers = [\n",
    "\n",
    "                ('SVC:', svc_model),\n",
    "                 ('LGB:', lgb_model),\n",
    "                ('XGB:', xgb_model),\n",
    "                #('CatB:', cb_model),\n",
    "                ('MLP:', mlp_model),\n",
    "                ('EXtra:', exc_model),\n",
    "                #('DT:', dt_model),\n",
    "                #('Knn:', Knn_model),\n",
    "                ]\n",
    "\n",
    "vc = VotingClassifier(estimators=classifiers)\n",
    "\n",
    "# evaluate_model(vc,X_train,y_train,X_val,y_val,True,'Voting')\n",
    "\n",
    "# fitting\n",
    "vc.fit(X_pca, y)"
   ]
  },
  {
   "cell_type": "code",
   "execution_count": 34,
   "id": "99cb145d",
   "metadata": {
    "execution": {
     "iopub.execute_input": "2022-05-30T16:50:10.646194Z",
     "iopub.status.busy": "2022-05-30T16:50:10.645300Z",
     "iopub.status.idle": "2022-05-30T16:50:11.353303Z",
     "shell.execute_reply": "2022-05-30T16:50:11.352458Z"
    },
    "papermill": {
     "duration": 0.74917,
     "end_time": "2022-05-30T16:50:11.355851",
     "exception": false,
     "start_time": "2022-05-30T16:50:10.606681",
     "status": "completed"
    },
    "tags": []
   },
   "outputs": [],
   "source": [
    "y_pred_voting = vc.predict(X_test_pca)\n",
    "df_subm['y'] = le.inverse_transform(y_pred_voting)"
   ]
  },
  {
   "cell_type": "markdown",
   "id": "c6e89b73",
   "metadata": {
    "papermill": {
     "duration": 0.030262,
     "end_time": "2022-05-30T16:50:11.417066",
     "exception": false,
     "start_time": "2022-05-30T16:50:11.386804",
     "status": "completed"
    },
    "tags": []
   },
   "source": [
    "**Models Stacking**"
   ]
  },
  {
   "cell_type": "code",
   "execution_count": 35,
   "id": "6457b81d",
   "metadata": {
    "execution": {
     "iopub.execute_input": "2022-05-30T16:50:11.485563Z",
     "iopub.status.busy": "2022-05-30T16:50:11.484269Z",
     "iopub.status.idle": "2022-05-30T16:50:11.492933Z",
     "shell.execute_reply": "2022-05-30T16:50:11.491799Z"
    },
    "papermill": {
     "duration": 0.047688,
     "end_time": "2022-05-30T16:50:11.494981",
     "exception": false,
     "start_time": "2022-05-30T16:50:11.447293",
     "status": "completed"
    },
    "tags": []
   },
   "outputs": [
    {
     "data": {
      "text/plain": [
       "\"\\nfrom sklearn.ensemble import StackingClassifier\\nestimators = [\\n\\n                ('SVC:', svc_model),\\n                 ('LGB:', lgb_model),\\n                ('XGB:', xgb_model),\\n                #('CatB:', cb_model),\\n                ('MLP:', mlp_model),\\n                ('Extra:', exc_model),\\n                #('DT:', dt_model),\\n                #('KNN:', knn_model),\\n                ]\\n\\nsclf = StackingClassifier(estimators=estimators, final_estimator=svc_model)\\n\\n# evaluate_model(sclf,X_train,y_train,X_val,y_val,True,'Stacking')\\n\\n# fitting\\nsclf.fit(X_pca, y)\\ny_pred_stacking = sclf.predict(X_test_pca)\\ny_pred_stacking\\n\""
      ]
     },
     "execution_count": 35,
     "metadata": {},
     "output_type": "execute_result"
    }
   ],
   "source": [
    "\"\"\"\n",
    "from sklearn.ensemble import StackingClassifier\n",
    "estimators = [\n",
    "\n",
    "                ('SVC:', svc_model),\n",
    "                 ('LGB:', lgb_model),\n",
    "                ('XGB:', xgb_model),\n",
    "                #('CatB:', cb_model),\n",
    "                ('MLP:', mlp_model),\n",
    "                ('Extra:', exc_model),\n",
    "                #('DT:', dt_model),\n",
    "                #('KNN:', knn_model),\n",
    "                ]\n",
    "\n",
    "sclf = StackingClassifier(estimators=estimators, final_estimator=svc_model)\n",
    "\n",
    "# evaluate_model(sclf,X_train,y_train,X_val,y_val,True,'Stacking')\n",
    "\n",
    "# fitting\n",
    "sclf.fit(X_pca, y)\n",
    "y_pred_stacking = sclf.predict(X_test_pca)\n",
    "y_pred_stacking\n",
    "\"\"\""
   ]
  },
  {
   "cell_type": "markdown",
   "id": "a7f543c3",
   "metadata": {
    "papermill": {
     "duration": 0.03207,
     "end_time": "2022-05-30T16:50:11.558782",
     "exception": false,
     "start_time": "2022-05-30T16:50:11.526712",
     "status": "completed"
    },
    "tags": []
   },
   "source": [
    "**Comparing results during Validation**"
   ]
  },
  {
   "cell_type": "code",
   "execution_count": 36,
   "id": "832ad4d5",
   "metadata": {
    "execution": {
     "iopub.execute_input": "2022-05-30T16:50:11.622762Z",
     "iopub.status.busy": "2022-05-30T16:50:11.622160Z",
     "iopub.status.idle": "2022-05-30T16:50:11.626510Z",
     "shell.execute_reply": "2022-05-30T16:50:11.625498Z"
    },
    "papermill": {
     "duration": 0.038614,
     "end_time": "2022-05-30T16:50:11.628778",
     "exception": false,
     "start_time": "2022-05-30T16:50:11.590164",
     "status": "completed"
    },
    "tags": []
   },
   "outputs": [],
   "source": [
    "#acc_pred_test[1:].sort_values(by='Score', ascending =False)"
   ]
  },
  {
   "cell_type": "markdown",
   "id": "1f48c2d6",
   "metadata": {
    "papermill": {
     "duration": 0.029379,
     "end_time": "2022-05-30T16:50:11.688234",
     "exception": false,
     "start_time": "2022-05-30T16:50:11.658855",
     "status": "completed"
    },
    "tags": []
   },
   "source": [
    "***"
   ]
  },
  {
   "cell_type": "markdown",
   "id": "01fe760c",
   "metadata": {
    "papermill": {
     "duration": 0.030136,
     "end_time": "2022-05-30T16:50:11.748854",
     "exception": false,
     "start_time": "2022-05-30T16:50:11.718718",
     "status": "completed"
    },
    "tags": []
   },
   "source": [
    "# 8. **Make a submission**"
   ]
  },
  {
   "cell_type": "code",
   "execution_count": 37,
   "id": "3b86b510",
   "metadata": {
    "execution": {
     "iopub.execute_input": "2022-05-30T16:50:11.811014Z",
     "iopub.status.busy": "2022-05-30T16:50:11.810577Z",
     "iopub.status.idle": "2022-05-30T16:50:12.445710Z",
     "shell.execute_reply": "2022-05-30T16:50:12.444601Z"
    },
    "papermill": {
     "duration": 0.669043,
     "end_time": "2022-05-30T16:50:12.448244",
     "exception": false,
     "start_time": "2022-05-30T16:50:11.779201",
     "status": "completed"
    },
    "tags": []
   },
   "outputs": [],
   "source": [
    "# making a submission using the selected model\n",
    "# We Selected Voting Classifier of the best 5 models\n",
    "y_test_predicted = vc.predict(X_test)\n",
    "df_subm['y'] = le.inverse_transform(y_test_predicted)\n",
    "df_subm['y'].value_counts()\n",
    "df_subm[['ID', 'y']].to_csv('/kaggle/working/submission.csv', index=False)"
   ]
  }
 ],
 "metadata": {
  "kernelspec": {
   "display_name": "Python 3",
   "language": "python",
   "name": "python3"
  },
  "language_info": {
   "codemirror_mode": {
    "name": "ipython",
    "version": 3
   },
   "file_extension": ".py",
   "mimetype": "text/x-python",
   "name": "python",
   "nbconvert_exporter": "python",
   "pygments_lexer": "ipython3",
   "version": "3.7.12"
  },
  "papermill": {
   "default_parameters": {},
   "duration": 124.794163,
   "end_time": "2022-05-30T16:50:15.099361",
   "environment_variables": {},
   "exception": null,
   "input_path": "__notebook__.ipynb",
   "output_path": "__notebook__.ipynb",
   "parameters": {},
   "start_time": "2022-05-30T16:48:10.305198",
   "version": "2.3.4"
  }
 },
 "nbformat": 4,
 "nbformat_minor": 5
}
